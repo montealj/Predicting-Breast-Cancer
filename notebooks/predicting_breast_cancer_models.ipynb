{
 "cells": [
  {
   "cell_type": "code",
   "execution_count": 72,
   "metadata": {},
   "outputs": [],
   "source": [
    "from collections import defaultdict\n",
    "from collections import Counter\n",
    "\n",
    "import numpy as np\n",
    "import pandas as pd\n",
    "import matplotlib.pyplot as plt\n",
    "import seaborn as sns\n",
    "import scipy.stats\n",
    "import imblearn\n",
    "import sklearn.metrics as metrics\n",
    "import xgboost\n",
    "\n",
    "from imblearn import under_sampling, over_sampling\n",
    "from imblearn.over_sampling import SMOTE\n",
    "from scipy.stats import spearmanr\n",
    "from scipy.cluster import hierarchy\n",
    "\n",
    "from sklearn.datasets import load_breast_cancer\n",
    "from sklearn.preprocessing import RobustScaler\n",
    "from sklearn.model_selection import train_test_split, GridSearchCV, cross_val_score\n",
    "from sklearn.pipeline import Pipeline\n",
    "from sklearn.pipeline import make_pipeline\n",
    "from sklearn.linear_model import LogisticRegression, LassoCV, Lasso\n",
    "from sklearn.ensemble import RandomForestClassifier, GradientBoostingClassifier, RandomForestRegressor\n",
    "from sklearn.inspection import permutation_importance\n",
    "from sklearn.feature_selection import SelectKBest, f_classif, SelectFromModel, chi2, RFE, RFECV\n",
    "from sklearn.metrics import classification_report, accuracy_score, confusion_matrix, precision_score, plot_confusion_matrix, f1_score, recall_score\n",
    "from sklearn.neighbors import  KNeighborsClassifier\n",
    "from sklearn.svm import SVC\n",
    "from sklearn.metrics import precision_recall_curve\n",
    "from sklearn.metrics import plot_precision_recall_curve\n",
    "from sklearn.metrics import average_precision_score\n",
    "from xgboost import XGBClassifier\n",
    "from sklearn import svm\n",
    "from sklearn.metrics import fbeta_score\n",
    "\n",
    "import warnings\n",
    "warnings.filterwarnings(\"ignore\")\n",
    "\n",
    "%matplotlib inline"
   ]
  },
  {
   "cell_type": "code",
   "execution_count": 2,
   "metadata": {},
   "outputs": [],
   "source": [
    "#Setting up graph standards\n",
    "SMALL_SIZE = 8\n",
    "MEDIUM_SIZE = 10\n",
    "BIGGER_SIZE = 12\n",
    "\n",
    "plt.rc('font', size=SMALL_SIZE)          # controls default text sizes\n",
    "plt.rc('axes', titlesize=SMALL_SIZE)     # fontsize of the axes title\n",
    "plt.rc('axes', labelsize=MEDIUM_SIZE)    # fontsize of the x and y labels\n",
    "plt.rc('xtick', labelsize=SMALL_SIZE)    # fontsize of the tick labels\n",
    "plt.rc('ytick', labelsize=SMALL_SIZE)    # fontsize of the tick labels\n",
    "plt.rc('legend', fontsize=SMALL_SIZE)    # legend fontsize\n",
    "plt.rc('figure', titlesize=BIGGER_SIZE)  # fontsize of the figure title"
   ]
  },
  {
   "cell_type": "markdown",
   "metadata": {},
   "source": [
    "### Table of Contents\n",
    "\n",
    "* [Data Loading](#data_load)\n",
    "* [Baseline Evaluation: Logistic Regression](#base)\n",
    "* [Modelling](#mod)\n",
    "    * [Logistic Regression](#log)\n",
    "    * [Random Forest](#rf)\n",
    "    * [Gradient Boosting](#gbm)\n",
    "* [Fine Tuning](#fine)\n",
    "* [Decision Threshold](#desc)\n",
    "* [Classification Report and Confusion Matrix](#class)"
   ]
  },
  {
   "cell_type": "markdown",
   "metadata": {},
   "source": [
    "## Creating Different Feature Sets <a class=\"anchor\" id=\"data_load\"></a>"
   ]
  },
  {
   "cell_type": "markdown",
   "metadata": {},
   "source": [
    "#### Original Dataset"
   ]
  },
  {
   "cell_type": "code",
   "execution_count": 3,
   "metadata": {
    "scrolled": true
   },
   "outputs": [],
   "source": [
    "X = pd.DataFrame(load_breast_cancer().data)\n",
    "X.columns = load_breast_cancer().feature_names\n",
    "y = pd.DataFrame(load_breast_cancer().target)"
   ]
  },
  {
   "cell_type": "code",
   "execution_count": 4,
   "metadata": {
    "scrolled": true
   },
   "outputs": [
    {
     "name": "stdout",
     "output_type": "stream",
     "text": [
      "Train Data: (284, 30), (284, 1)\n",
      "Test Data: (285, 30), (285, 1)\n"
     ]
    }
   ],
   "source": [
    "#Splitting test/train 50/50\n",
    "X_train, X_test, y_train, y_test = train_test_split(X, y, test_size = 0.5, random_state = 42)\n",
    "print(f\"Train Data: {X_train.shape}, {y_train.shape}\")\n",
    "print(f\"Test Data: {X_test.shape}, {y_test.shape}\")"
   ]
  },
  {
   "cell_type": "code",
   "execution_count": 5,
   "metadata": {},
   "outputs": [
    {
     "name": "stdout",
     "output_type": "stream",
     "text": [
      "Total Data after Upsampling: 340\n",
      "Train Data: (340, 30), (340, 1)\n",
      "Test Data: (285, 30), (285, 1)\n",
      "Scaled Train Data: (340, 30), (340, 1)\n",
      "Scaled Test Data: (285, 30), (285, 1)\n"
     ]
    }
   ],
   "source": [
    "#Upsampling training data\n",
    "counter = Counter(y_train)\n",
    "upsample = SMOTE()\n",
    "X_train, y_train = upsample.fit_resample(X_train, y_train)\n",
    "\n",
    "print(f\"Total Data after Upsampling: {len(X_train)}\")\n",
    "print(f\"Train Data: {X_train.shape}, {y_train.shape}\")\n",
    "print(f\"Test Data: {X_test.shape}, {y_test.shape}\")\n",
    "\n",
    "#Scaling train and test data\n",
    "scaler = RobustScaler()\n",
    "X_train = scaler.fit_transform(X_train)\n",
    "X_test = scaler.transform(X_test)\n",
    "print(f\"Scaled Train Data: {X_train.shape}, {y_train.shape}\")\n",
    "print(f\"Scaled Test Data: {X_test.shape}, {y_test.shape}\")"
   ]
  },
  {
   "cell_type": "markdown",
   "metadata": {},
   "source": [
    "#### SelectKBest Feature Set<a class=\"anchor\" id=\"selectkbest\"></a>"
   ]
  },
  {
   "cell_type": "code",
   "execution_count": 6,
   "metadata": {},
   "outputs": [],
   "source": [
    "selector = SelectKBest(f_classif, k=15) #chi2 requires non negative\n",
    "feature_set_skb = selector.fit_transform(X_train,y_train)"
   ]
  },
  {
   "cell_type": "code",
   "execution_count": 7,
   "metadata": {},
   "outputs": [
    {
     "name": "stdout",
     "output_type": "stream",
     "text": [
      "Baseline Test Data: (285, 30)\n",
      "SelectKBest Test Data: (285, 15)\n"
     ]
    }
   ],
   "source": [
    "X_test_skb = selector.transform(X_test)\n",
    "\n",
    "print(f\"Baseline Test Data: {X_test.shape}\")\n",
    "print(f\"SelectKBest Test Data: {X_test_skb.shape}\")"
   ]
  },
  {
   "cell_type": "markdown",
   "metadata": {},
   "source": [
    "#### Feature ranking with recursive feature elimination and cross-validated selection Feature Set <a class=\"anchor\" id=\"rfecv\"></a>"
   ]
  },
  {
   "cell_type": "code",
   "execution_count": 8,
   "metadata": {},
   "outputs": [],
   "source": [
    "clf = LogisticRegression(random_state=42)\n",
    "rfecv_clf_selector = RFECV(estimator=clf ,step=1, cv=5)\n",
    "rfecv_clf_feature_set = rfecv_clf_selector.fit_transform(X_train,y_train)"
   ]
  },
  {
   "cell_type": "code",
   "execution_count": 9,
   "metadata": {},
   "outputs": [
    {
     "name": "stdout",
     "output_type": "stream",
     "text": [
      "Baseline Test Data: (285, 30)\n",
      "RFECV Test Data: (285, 20)\n"
     ]
    }
   ],
   "source": [
    "X_test_rfecv = rfecv_clf_selector.transform(X_test)\n",
    "\n",
    "print(f\"Baseline Test Data: {X_test.shape}\")\n",
    "print(f\"RFECV Test Data: {X_test_rfecv.shape}\")"
   ]
  },
  {
   "cell_type": "markdown",
   "metadata": {},
   "source": [
    "#### Lasso Feature Set <a class=\"anchor\" id=\"Lasso\"></a>"
   ]
  },
  {
   "cell_type": "code",
   "execution_count": 10,
   "metadata": {},
   "outputs": [],
   "source": [
    "# SelectFromModel(LogisticRegression(C=1, penalty='l1', solver='liblinear'))\n",
    "estimator = LassoCV(cv=5)\n",
    "sfm = SelectFromModel(estimator)\n",
    "sfm_feature_set = sfm.fit_transform(X_train, y_train)"
   ]
  },
  {
   "cell_type": "code",
   "execution_count": 11,
   "metadata": {
    "scrolled": true
   },
   "outputs": [
    {
     "name": "stdout",
     "output_type": "stream",
     "text": [
      "Baseline Test Data: (285, 30)\n",
      "Lasso Test Data: (285, 17)\n"
     ]
    }
   ],
   "source": [
    "X_test_lasso = sfm.transform(X_test)\n",
    "\n",
    "print(f\"Baseline Test Data: {X_test.shape}\")\n",
    "print(f\"Lasso Test Data: {X_test_lasso.shape}\")"
   ]
  },
  {
   "cell_type": "markdown",
   "metadata": {},
   "source": [
    "#### Random Forest Feature Importance Feature Set <a class=\"anchor\" id=\"rffi\"></a>"
   ]
  },
  {
   "cell_type": "code",
   "execution_count": 12,
   "metadata": {},
   "outputs": [],
   "source": [
    "corr = spearmanr(X).correlation\n",
    "corr_linkage = hierarchy.ward(corr)"
   ]
  },
  {
   "cell_type": "code",
   "execution_count": 13,
   "metadata": {},
   "outputs": [
    {
     "name": "stdout",
     "output_type": "stream",
     "text": [
      "Baseline Test Data: (285, 30)\n",
      "RFI Test Data: (285, 14)\n"
     ]
    }
   ],
   "source": [
    "cluster_ids = hierarchy.fcluster(corr_linkage, 1, criterion='distance')\n",
    "cluster_id_to_feature_ids = defaultdict(list)\n",
    "for idx, cluster_id in enumerate(cluster_ids):\n",
    "    cluster_id_to_feature_ids[cluster_id].append(idx)\n",
    "selected_features = [v[0] for v in cluster_id_to_feature_ids.values()]\n",
    "\n",
    "X_train_rfi = X_train[:, selected_features]\n",
    "X_test_rfi = X_test[:, selected_features]\n",
    "\n",
    "print(f\"Baseline Test Data: {X_test.shape}\")\n",
    "print(f\"RFI Test Data: {X_test_rfi.shape}\")"
   ]
  },
  {
   "cell_type": "markdown",
   "metadata": {},
   "source": [
    "#### Mean Feature Set"
   ]
  },
  {
   "cell_type": "code",
   "execution_count": 14,
   "metadata": {},
   "outputs": [],
   "source": [
    "X_train_mean = pd.DataFrame(X_train, columns = X.columns)\n",
    "X_test_mean = pd.DataFrame(X_test, columns = X.columns)"
   ]
  },
  {
   "cell_type": "code",
   "execution_count": 15,
   "metadata": {},
   "outputs": [
    {
     "data": {
      "text/plain": [
       "(285, 30)"
      ]
     },
     "execution_count": 15,
     "metadata": {},
     "output_type": "execute_result"
    }
   ],
   "source": [
    "X_train_mean.shape\n",
    "X_test_mean.shape"
   ]
  },
  {
   "cell_type": "code",
   "execution_count": 16,
   "metadata": {},
   "outputs": [
    {
     "data": {
      "text/plain": [
       "(340, 10)"
      ]
     },
     "execution_count": 16,
     "metadata": {},
     "output_type": "execute_result"
    }
   ],
   "source": [
    "#X_mean = pd.DataFrame(load_breast_cancer().data)\n",
    "#X_mean.columns = load_breast_cancer().feature_names\n",
    "#X_mean.columns\n",
    "\n",
    "X_train_mean.drop(columns=['radius error', 'texture error','perimeter error','area error',\n",
    "       'smoothness error', 'compactness error', 'concavity error',\n",
    "       'concave points error', 'symmetry error', 'fractal dimension error',\n",
    "       'worst radius', 'worst texture', 'worst perimeter', 'worst area',\n",
    "       'worst smoothness', 'worst compactness', 'worst concavity',\n",
    "       'worst concave points', 'worst symmetry', 'worst fractal dimension'], inplace=True)\n",
    "\n",
    "X_train_mean.shape"
   ]
  },
  {
   "cell_type": "code",
   "execution_count": 17,
   "metadata": {},
   "outputs": [
    {
     "data": {
      "text/plain": [
       "(285, 10)"
      ]
     },
     "execution_count": 17,
     "metadata": {},
     "output_type": "execute_result"
    }
   ],
   "source": [
    "X_test_mean.drop(columns=['radius error', 'texture error','perimeter error','area error',\n",
    "       'smoothness error', 'compactness error', 'concavity error',\n",
    "       'concave points error', 'symmetry error', 'fractal dimension error',\n",
    "       'worst radius', 'worst texture', 'worst perimeter', 'worst area',\n",
    "       'worst smoothness', 'worst compactness', 'worst concavity',\n",
    "       'worst concave points', 'worst symmetry', 'worst fractal dimension'], inplace=True)\n",
    "\n",
    "X_test_mean.shape"
   ]
  },
  {
   "cell_type": "code",
   "execution_count": null,
   "metadata": {},
   "outputs": [],
   "source": []
  },
  {
   "cell_type": "markdown",
   "metadata": {},
   "source": [
    "#### Less Correlated Feature Set"
   ]
  },
  {
   "cell_type": "code",
   "execution_count": 18,
   "metadata": {},
   "outputs": [],
   "source": [
    "X_train_clean = pd.DataFrame(X_train, columns = X.columns)\n",
    "X_test_clean = pd.DataFrame(X_test, columns = X.columns)"
   ]
  },
  {
   "cell_type": "code",
   "execution_count": 19,
   "metadata": {},
   "outputs": [
    {
     "data": {
      "text/plain": [
       "(285, 30)"
      ]
     },
     "execution_count": 19,
     "metadata": {},
     "output_type": "execute_result"
    }
   ],
   "source": [
    "X_train_clean.shape\n",
    "X_test_clean.shape"
   ]
  },
  {
   "cell_type": "code",
   "execution_count": 20,
   "metadata": {},
   "outputs": [
    {
     "data": {
      "text/plain": [
       "(340, 16)"
      ]
     },
     "execution_count": 20,
     "metadata": {},
     "output_type": "execute_result"
    }
   ],
   "source": [
    "X_train_clean.drop(columns=['worst smoothness', 'worst perimeter', 'mean area', 'mean concavity', 'worst concave points', 'area error', 'worst area', 'worst radius', 'worst texture', 'worst compactness', 'mean perimeter', 'worst concavity', 'perimeter error', 'mean concave points'], inplace=True)\n",
    "\n",
    "X_train_clean.shape"
   ]
  },
  {
   "cell_type": "code",
   "execution_count": 21,
   "metadata": {},
   "outputs": [
    {
     "data": {
      "text/plain": [
       "(285, 16)"
      ]
     },
     "execution_count": 21,
     "metadata": {},
     "output_type": "execute_result"
    }
   ],
   "source": [
    "#X_clean = pd.DataFrame(load_breast_cancer().data)\n",
    "#X_clean.columns = load_breast_cancer().feature_names\n",
    "#X_clean.shape\n",
    "\n",
    "X_test_clean.drop(columns=['worst smoothness', 'worst perimeter', 'mean area', 'mean concavity', 'worst concave points', 'area error', 'worst area', 'worst radius', 'worst texture', 'worst compactness', 'mean perimeter', 'worst concavity', 'perimeter error', 'mean concave points'], inplace=True)\n",
    "\n",
    "X_test_clean.shape"
   ]
  },
  {
   "cell_type": "markdown",
   "metadata": {},
   "source": [
    "### Baseline Logistic Regression Model <a class=\"anchor\" id=\"base\"></a>"
   ]
  },
  {
   "cell_type": "markdown",
   "metadata": {},
   "source": [
    "##### Original Feature Set"
   ]
  },
  {
   "cell_type": "code",
   "execution_count": 22,
   "metadata": {
    "scrolled": true
   },
   "outputs": [
    {
     "name": "stdout",
     "output_type": "stream",
     "text": [
      "ROC AUC:99.71625013641821%\n"
     ]
    },
    {
     "data": {
      "text/plain": [
       "0.997162501364182"
      ]
     },
     "execution_count": 22,
     "metadata": {},
     "output_type": "execute_result"
    }
   ],
   "source": [
    "clf = LogisticRegression(random_state=42)\n",
    "clf.fit(X_train, y_train)\n",
    "#print(\"Accuracy on test data: {:.2f}\".format(clf.score(X_test, y_test)))\n",
    "base_dict = {}\n",
    "\n",
    "# Accuray On Test Data\n",
    "probs = clf.predict_proba(X_test)\n",
    "preds = probs[:,1]\n",
    "fpr, tpr, threshold = metrics.roc_curve(y_test, preds)\n",
    "roc_auc = metrics.auc(fpr, tpr)\n",
    "print(f\"ROC AUC:{roc_auc*100}%\")\n",
    "base_dict.update({\"Baseline\":roc_auc*100})\n",
    "\n",
    "y_score =clf.predict_proba(X_test)[:, 1]\n",
    "orig_score = metrics.roc_auc_score(y_test, y_score)\n",
    "\n",
    "orig_score"
   ]
  },
  {
   "cell_type": "markdown",
   "metadata": {},
   "source": [
    "#### Select K Best Feature set"
   ]
  },
  {
   "cell_type": "code",
   "execution_count": 24,
   "metadata": {},
   "outputs": [
    {
     "name": "stdout",
     "output_type": "stream",
     "text": [
      "ROC AUC:99.06144275892174%\n"
     ]
    },
    {
     "data": {
      "text/plain": [
       "0.9906144275892175"
      ]
     },
     "execution_count": 24,
     "metadata": {},
     "output_type": "execute_result"
    }
   ],
   "source": [
    "clf = LogisticRegression(random_state=42)\n",
    "clf.fit(feature_set_skb, y_train)\n",
    "#print(\"Accuracy on test data: {:.2f}\".format(clf.score(X_test_skb, y_test)))\n",
    "\n",
    "# Accuray On Test Data\n",
    "probs = clf.predict_proba(X_test_skb)\n",
    "preds = probs[:,1]\n",
    "fpr, tpr, threshold = metrics.roc_curve(y_test, preds)\n",
    "roc_auc = metrics.auc(fpr, tpr)\n",
    "print(f\"ROC AUC:{roc_auc*100}%\")\n",
    "#fs_dict.update({\"SKB_LogReg\":[f\"ROC AUC: {roc_auc*100}%\",f\"Accuracy:{clf.score(X_test_skb, y_test)}\"]})\n",
    "base_dict.update({\"Select K Best\":roc_auc*100})\n",
    "\n",
    "y_score =clf.predict_proba(X_test_skb)[:, 1]\n",
    "skb_score = metrics.roc_auc_score(y_test, y_score)\n",
    "\n",
    "skb_score"
   ]
  },
  {
   "cell_type": "markdown",
   "metadata": {},
   "source": [
    "#### RFECV Feature Set"
   ]
  },
  {
   "cell_type": "code",
   "execution_count": 25,
   "metadata": {
    "scrolled": true
   },
   "outputs": [
    {
     "name": "stdout",
     "output_type": "stream",
     "text": [
      "ROC AUC:99.73807704900142%\n"
     ]
    },
    {
     "data": {
      "text/plain": [
       "0.9973807704900142"
      ]
     },
     "execution_count": 25,
     "metadata": {},
     "output_type": "execute_result"
    }
   ],
   "source": [
    "clf = LogisticRegression(random_state=42)\n",
    "clf.fit(rfecv_clf_feature_set, y_train)\n",
    "#print(\"Accuracy on test data: {:.2f}\".format(clf.score(X_test_rfecv, y_test)))\n",
    "\n",
    "# Accuray On Test Data\n",
    "probs = clf.predict_proba(X_test_rfecv)\n",
    "preds = probs[:,1]\n",
    "fpr, tpr, threshold = metrics.roc_curve(y_test, preds)\n",
    "roc_auc = metrics.auc(fpr, tpr)\n",
    "print(f\"ROC AUC:{roc_auc*100}%\")\n",
    "#fs_dict.update({\"RFECV_LogReg\":[f\"ROC AUC: {roc_auc*100}%\",f\"Accuracy:{clf.score(X_test_rfecv, y_test)}\"]})\n",
    "base_dict.update({\"RFECV\":roc_auc*100})\n",
    "\n",
    "y_score =clf.predict_proba(X_test_rfecv)[:, 1]\n",
    "rfecv_score = metrics.roc_auc_score(y_test, y_score)\n",
    "\n",
    "rfecv_score\n",
    "\n"
   ]
  },
  {
   "cell_type": "markdown",
   "metadata": {},
   "source": [
    "#### Lasso Feature Set"
   ]
  },
  {
   "cell_type": "code",
   "execution_count": 26,
   "metadata": {},
   "outputs": [
    {
     "name": "stdout",
     "output_type": "stream",
     "text": [
      "ROC AUC:99.60711557350213%\n",
      "0.9960711557350213\n"
     ]
    },
    {
     "data": {
      "image/png": "[encoded data removed]",
      "text/plain": [
       "<Figure size 432x288 with 1 Axes>"
      ]
     },
     "metadata": {
      "needs_background": "light"
     },
     "output_type": "display_data"
    }
   ],
   "source": [
    "clf = LogisticRegression(random_state=42)\n",
    "clf.fit(sfm_feature_set, y_train)\n",
    "#print(\"Accuracy on test data: {:.2f}\".format(clf.score(X_test_lasso, y_test)))\n",
    "\n",
    "# Accuray On Test Data\n",
    "probs = clf.predict_proba(X_test_lasso)\n",
    "preds = probs[:,1]\n",
    "fpr, tpr, threshold = metrics.roc_curve(y_test, preds)\n",
    "roc_auc = metrics.auc(fpr, tpr)\n",
    "print(f\"ROC AUC:{roc_auc*100}%\")\n",
    "#fs_dict.update({\"LassoCV_LogReg\":[f\"ROC AUC: {roc_auc*100}%\",f\"Accuracy:{clf.score(X_test_lasso, y_test)}\"]})\n",
    "base_dict.update({\"Lasso CV\":roc_auc*100})\n",
    "\n",
    "y_score =clf.predict_proba(X_test_lasso)[:, 1]\n",
    "lasso_score = metrics.roc_auc_score(y_test, y_score)\n",
    "\n",
    "print(lasso_score)\n",
    "\n",
    "plt.figure(0).clf()\n",
    "plt.plot(fpr,tpr,label=\"RFI, auc=\"+str(lasso_score))\n",
    "\n",
    "# plotting with matplotlib\n",
    "plt.title('Receiver Operating Characteristic')\n",
    "plt.legend(loc = 'lower right')\n",
    "plt.plot([0, 1], [0, 1],'r--')\n",
    "plt.xlim([0, 1])\n",
    "plt.ylim([0, 1])\n",
    "plt.ylabel('True Positive Rate')\n",
    "plt.xlabel('False Positive Rate')\n",
    "#plt.savefig('AUC_updated.png')\n",
    "plt.show()"
   ]
  },
  {
   "cell_type": "markdown",
   "metadata": {},
   "source": [
    "#### Random Forest Feature Importance Feature Set"
   ]
  },
  {
   "cell_type": "code",
   "execution_count": 27,
   "metadata": {
    "scrolled": true
   },
   "outputs": [
    {
     "name": "stdout",
     "output_type": "stream",
     "text": [
      "ROC AUC:99.75444723343882%\n",
      "0.9975444723343883\n"
     ]
    },
    {
     "data": {
      "image/png": "[encoded data removed]",
      "text/plain": [
       "<Figure size 432x288 with 1 Axes>"
      ]
     },
     "metadata": {
      "needs_background": "light"
     },
     "output_type": "display_data"
    }
   ],
   "source": [
    "clf = LogisticRegression(random_state=42)\n",
    "clf.fit(X_train_rfi, y_train)\n",
    "#print(\"Accuracy on test data: {:.2f}\".format(clf.score(X_test_rfi, y_test)))\n",
    "\n",
    "# Accuray On Test Data\n",
    "probs = clf.predict_proba(X_test_rfi)\n",
    "preds = probs[:,1]\n",
    "fpr, tpr, threshold = metrics.roc_curve(y_test, preds)\n",
    "roc_auc = metrics.auc(fpr, tpr)\n",
    "print(f\"ROC AUC:{roc_auc*100}%\")\n",
    "#fs_dict.update({\"RF_Feat_Importance_LogReg\":[f\"ROC AUC: {roc_auc*100}%\",f\"Accuracy:{clf.score(X_test_rfi, y_test)}\"]})\n",
    "base_dict.update({\"RFFI\":roc_auc*100})\n",
    "\n",
    "y_score =clf.predict_proba(X_test_rfi)[:, 1]\n",
    "rfi_score = metrics.roc_auc_score(y_test, y_score)\n",
    "\n",
    "print(rfi_score)\n",
    "plt.figure(0).clf()\n",
    "plt.plot(fpr,tpr,label=\"RFI, auc=\"+str(rfi_score))\n",
    "\n",
    "# plotting with matplotlib\n",
    "plt.title('Receiver Operating Characteristic')\n",
    "plt.legend(loc = 'lower right')\n",
    "plt.plot([0, 1], [0, 1],'r--')\n",
    "plt.xlim([0, 1])\n",
    "plt.ylim([0, 1])\n",
    "plt.ylabel('True Positive Rate')\n",
    "plt.xlabel('False Positive Rate')\n",
    "#plt.savefig('AUC_updated.png')\n",
    "plt.show()"
   ]
  },
  {
   "cell_type": "markdown",
   "metadata": {},
   "source": [
    "#### Mean Feature Set"
   ]
  },
  {
   "cell_type": "code",
   "execution_count": 28,
   "metadata": {},
   "outputs": [
    {
     "name": "stdout",
     "output_type": "stream",
     "text": [
      "ROC AUC:98.93593801156827%\n"
     ]
    },
    {
     "data": {
      "text/plain": [
       "0.9893593801156827"
      ]
     },
     "execution_count": 28,
     "metadata": {},
     "output_type": "execute_result"
    }
   ],
   "source": [
    "clf = LogisticRegression(random_state=42)\n",
    "clf.fit(X_train_mean, y_train)\n",
    "#print(\"Accuracy on test data: {:.2f}\".format(clf.score(X_test, y_test)))\n",
    "#fs_dict = {}\n",
    "\n",
    "# Accuray On Test Data\n",
    "probs = clf.predict_proba(X_test_mean)\n",
    "preds = probs[:,1]\n",
    "fpr, tpr, threshold = metrics.roc_curve(y_test, preds)\n",
    "roc_auc = metrics.auc(fpr, tpr)\n",
    "print(f\"ROC AUC:{roc_auc*100}%\")\n",
    "#fs_dict.update({\"Baseline_LogReg\":[f\"ROC AUC: {roc_auc*100}%\",f\"Accuracy:{clf.score(X_test, y_test)}\"]})\n",
    "base_dict.update({\"Mean Features\":roc_auc*100})\n",
    "\n",
    "y_score =clf.predict_proba(X_test_mean)[:, 1]\n",
    "mean_score = metrics.roc_auc_score(y_test, y_score)\n",
    "\n",
    "mean_score"
   ]
  },
  {
   "cell_type": "markdown",
   "metadata": {},
   "source": [
    "#### Less correlated Feature Set"
   ]
  },
  {
   "cell_type": "code",
   "execution_count": 29,
   "metadata": {},
   "outputs": [
    {
     "name": "stdout",
     "output_type": "stream",
     "text": [
      "ROC AUC:98.95776492415148%\n"
     ]
    },
    {
     "data": {
      "text/plain": [
       "0.9895776492415148"
      ]
     },
     "execution_count": 29,
     "metadata": {},
     "output_type": "execute_result"
    }
   ],
   "source": [
    "clf = LogisticRegression(random_state=42)\n",
    "clf.fit(X_train_clean, y_train)\n",
    "#print(\"Accuracy on test data: {:.2f}\".format(clf.score(X_test, y_test)))\n",
    "#fs_dict = {}\n",
    "\n",
    "# Accuray On Test Data\n",
    "probs = clf.predict_proba(X_test_clean)\n",
    "preds = probs[:,1]\n",
    "fpr, tpr, threshold = metrics.roc_curve(y_test, preds)\n",
    "roc_auc = metrics.auc(fpr, tpr)\n",
    "print(f\"ROC AUC:{roc_auc*100}%\")\n",
    "#fs_dict.update({\"Baseline_LogReg\":[f\"ROC AUC: {roc_auc*100}%\",f\"Accuracy:{clf.score(X_test, y_test)}\"]})\n",
    "base_dict.update({\"Less Correlated\":roc_auc*100})\n",
    "\n",
    "y_score =clf.predict_proba(X_test_clean)[:, 1]\n",
    "clean_score = metrics.roc_auc_score(y_test, y_score)\n",
    "\n",
    "clean_score"
   ]
  },
  {
   "cell_type": "code",
   "execution_count": 36,
   "metadata": {
    "scrolled": false
   },
   "outputs": [
    {
     "data": {
      "text/html": [
       "<div>\n",
       "<style scoped>\n",
       "    .dataframe tbody tr th:only-of-type {\n",
       "        vertical-align: middle;\n",
       "    }\n",
       "\n",
       "    .dataframe tbody tr th {\n",
       "        vertical-align: top;\n",
       "    }\n",
       "\n",
       "    .dataframe thead th {\n",
       "        text-align: right;\n",
       "    }\n",
       "</style>\n",
       "<table border=\"1\" class=\"dataframe\">\n",
       "  <thead>\n",
       "    <tr style=\"text-align: right;\">\n",
       "      <th></th>\n",
       "      <th>0</th>\n",
       "    </tr>\n",
       "  </thead>\n",
       "  <tbody>\n",
       "    <tr>\n",
       "      <th>RFFI</th>\n",
       "      <td>99.754447</td>\n",
       "    </tr>\n",
       "    <tr>\n",
       "      <th>RFECV</th>\n",
       "      <td>99.738077</td>\n",
       "    </tr>\n",
       "    <tr>\n",
       "      <th>Baseline</th>\n",
       "      <td>99.716250</td>\n",
       "    </tr>\n",
       "    <tr>\n",
       "      <th>Lasso CV</th>\n",
       "      <td>99.607116</td>\n",
       "    </tr>\n",
       "    <tr>\n",
       "      <th>Select K Best</th>\n",
       "      <td>99.061443</td>\n",
       "    </tr>\n",
       "    <tr>\n",
       "      <th>Less Correlated</th>\n",
       "      <td>98.957765</td>\n",
       "    </tr>\n",
       "    <tr>\n",
       "      <th>Mean Features</th>\n",
       "      <td>98.935938</td>\n",
       "    </tr>\n",
       "  </tbody>\n",
       "</table>\n",
       "</div>"
      ],
      "text/plain": [
       "                         0\n",
       "RFFI             99.754447\n",
       "RFECV            99.738077\n",
       "Baseline         99.716250\n",
       "Lasso CV         99.607116\n",
       "Select K Best    99.061443\n",
       "Less Correlated  98.957765\n",
       "Mean Features    98.935938"
      ]
     },
     "execution_count": 36,
     "metadata": {},
     "output_type": "execute_result"
    }
   ],
   "source": [
    "baseline_data = pd.DataFrame.from_dict(base_dict, orient='index')\n",
    "baseline_data.sort_values(by=0, ascending=False)"
   ]
  },
  {
   "cell_type": "markdown",
   "metadata": {},
   "source": [
    "The Random Forest Feature Importance is the best data set. "
   ]
  },
  {
   "cell_type": "markdown",
   "metadata": {},
   "source": [
    "### Log Reg Grid Search with RFI Feature Set <a class=\"anchor\" id=\"log\"></a>"
   ]
  },
  {
   "cell_type": "code",
   "execution_count": 40,
   "metadata": {},
   "outputs": [
    {
     "name": "stdout",
     "output_type": "stream",
     "text": [
      "0.9676470588235295\n",
      "{'C': 1.0, 'max_iter': 100, 'penalty': 'l1', 'solver': 'liblinear'}\n"
     ]
    }
   ],
   "source": [
    "parameters = {\n",
    "    'penalty': ['l1', 'l2', 'none'],\n",
    "    'solver':['newton-cg', 'lbfgs', 'liblinear', 'sag', 'saga'],\n",
    "    'max_iter': np.arange(100, 200, 10),\n",
    "    'C':np.arange(0, 1.5, 0.2)}\n",
    "grid_cv = GridSearchCV(estimator = LogisticRegression(random_state = 42), param_grid = parameters, cv = 5)\n",
    "grid_cv.fit(X_trainrfi, y_train)\n",
    "print(grid_cv.best_score_)\n",
    "print(grid_cv.best_params_)"
   ]
  },
  {
   "cell_type": "code",
   "execution_count": 41,
   "metadata": {
    "scrolled": false
   },
   "outputs": [
    {
     "name": "stdout",
     "output_type": "stream",
     "text": [
      "              precision    recall  f1-score   support\n",
      "\n",
      "           0       0.93      0.98      0.96        98\n",
      "           1       0.99      0.96      0.98       187\n",
      "\n",
      "    accuracy                           0.97       285\n",
      "   macro avg       0.96      0.97      0.97       285\n",
      "weighted avg       0.97      0.97      0.97       285\n",
      "\n"
     ]
    },
    {
     "data": {
      "text/plain": [
       "0.968421052631579"
      ]
     },
     "execution_count": 41,
     "metadata": {},
     "output_type": "execute_result"
    }
   ],
   "source": [
    "print(classification_report(y_test, grid_cv.best_estimator_.predict(X_test_rfi)))\n",
    "grid_cv.best_estimator_.score(X_test_rfi, y_test)"
   ]
  },
  {
   "cell_type": "code",
   "execution_count": 43,
   "metadata": {
    "scrolled": true
   },
   "outputs": [
    {
     "data": {
      "text/plain": [
       "LogisticRegression(penalty='l1', random_state=42, solver='liblinear')"
      ]
     },
     "execution_count": 43,
     "metadata": {},
     "output_type": "execute_result"
    }
   ],
   "source": [
    "# Setting the model to the best combination of parameters\n",
    "mod = grid_cv.best_estimator_\n",
    "\n",
    "# Train the model using the training sets \n",
    "mod.fit(X_train_rfi,y_train)"
   ]
  },
  {
   "cell_type": "code",
   "execution_count": 56,
   "metadata": {},
   "outputs": [
    {
     "data": {
      "text/plain": [
       "0.9969442322383499"
      ]
     },
     "execution_count": 56,
     "metadata": {},
     "output_type": "execute_result"
    }
   ],
   "source": [
    "y_score_log =grid_cv.best_estimator_.predict_proba(X_test_rfi)[:,1]\n",
    "metrics.roc_auc_score(y_test, y_score_log)"
   ]
  },
  {
   "cell_type": "markdown",
   "metadata": {},
   "source": [
    "### Random Forest Model <a class=\"anchor\" id=\"rf\"></a>"
   ]
  },
  {
   "cell_type": "code",
   "execution_count": 44,
   "metadata": {},
   "outputs": [
    {
     "name": "stdout",
     "output_type": "stream",
     "text": [
      "RF Feature Importance Feature Set\n",
      "{99.20604605478556}\n"
     ]
    }
   ],
   "source": [
    "## RF Feature importanct \n",
    "rf = RandomForestClassifier(random_state=42)\n",
    "rf.fit(X_train_rfi, y_train)\n",
    "\n",
    "probs = rf.predict_proba(X_test_rfi)\n",
    "preds = probs[:,1]\n",
    "fpr, tpr, threshold = metrics.roc_curve(y_test, preds)\n",
    "roc_auc = metrics.auc(fpr, tpr)\n",
    "print('RF Feature Importance Feature Set')\n",
    "print({roc_auc*100})"
   ]
  },
  {
   "cell_type": "code",
   "execution_count": 45,
   "metadata": {},
   "outputs": [
    {
     "name": "stdout",
     "output_type": "stream",
     "text": [
      "0.9470588235294117\n",
      "{'criterion': 'entropy', 'max_depth': 5, 'max_features': 'log2', 'min_samples_leaf': 1, 'min_samples_split': 2, 'n_estimators': 15}\n"
     ]
    }
   ],
   "source": [
    "parameters_rf = {'n_estimators': [4, 6, 9, 10, 15], \n",
    "              'max_features': ['log2', 'sqrt','auto'], \n",
    "              'criterion': ['entropy', 'gini'],\n",
    "              'max_depth': [2, 3, 5, 10], \n",
    "              'min_samples_split': [2, 3, 5],\n",
    "              'min_samples_leaf': [1, 5, 8]\n",
    "             }\n",
    "grid_cv_rf = GridSearchCV(estimator = RandomForestClassifier(random_state = 42), param_grid = parameters_rf, cv = 5)\n",
    "grid_cv_rf.fit(X_train_rfi, y_train)\n",
    "print(grid_cv_rf.best_score_)\n",
    "print(grid_cv_rf.best_params_)"
   ]
  },
  {
   "cell_type": "code",
   "execution_count": 46,
   "metadata": {
    "scrolled": true
   },
   "outputs": [
    {
     "name": "stdout",
     "output_type": "stream",
     "text": [
      "              precision    recall  f1-score   support\n",
      "\n",
      "           0       0.93      0.98      0.96        98\n",
      "           1       0.99      0.96      0.98       187\n",
      "\n",
      "    accuracy                           0.97       285\n",
      "   macro avg       0.96      0.97      0.97       285\n",
      "weighted avg       0.97      0.97      0.97       285\n",
      "\n"
     ]
    },
    {
     "data": {
      "text/plain": [
       "0.9403508771929825"
      ]
     },
     "execution_count": 46,
     "metadata": {},
     "output_type": "execute_result"
    }
   ],
   "source": [
    "print(classification_report(y_test, grid_cv.best_estimator_.predict(X_test_rfi)))\n",
    "grid_cv_rf.best_estimator_.score(X_test_rfi, y_test)"
   ]
  },
  {
   "cell_type": "code",
   "execution_count": 55,
   "metadata": {},
   "outputs": [
    {
     "data": {
      "text/plain": [
       "0.9906417112299466"
      ]
     },
     "execution_count": 55,
     "metadata": {},
     "output_type": "execute_result"
    }
   ],
   "source": [
    "y_score_rf =grid_cv_rf.best_estimator_.predict_proba(X_test_rfi)[:,1]\n",
    "metrics.roc_auc_score(y_test, y_score_rf)"
   ]
  },
  {
   "cell_type": "markdown",
   "metadata": {},
   "source": [
    "### Gradient Boosting Model  <a class=\"anchor\" id=\"gbm\"></a>"
   ]
  },
  {
   "cell_type": "code",
   "execution_count": 47,
   "metadata": {},
   "outputs": [
    {
     "name": "stdout",
     "output_type": "stream",
     "text": [
      "RF Feature Importance Feature Set\n",
      "ROC AUC:98.87591400196442%\n"
     ]
    }
   ],
   "source": [
    "## RF Feature importanct \n",
    "gbm = GradientBoostingClassifier(random_state=42) \n",
    "gbm.fit(X_train_rfi, y_train)\n",
    "\n",
    "probs = gbm.predict_proba(X_test_rfi)\n",
    "preds = probs[:,1]\n",
    "fpr, tpr, threshold = metrics.roc_curve(y_test, preds)\n",
    "roc_auc = metrics.auc(fpr, tpr)\n",
    "print('RF Feature Importance Feature Set')\n",
    "print(f\"ROC AUC:{roc_auc*100}%\")"
   ]
  },
  {
   "cell_type": "code",
   "execution_count": 48,
   "metadata": {},
   "outputs": [
    {
     "name": "stdout",
     "output_type": "stream",
     "text": [
      "0.9529411764705882\n",
      "{'learning_rate': 0.5, 'max_depth': 2, 'n_estimators': 500}\n"
     ]
    }
   ],
   "source": [
    "n_estimators = np.arange(100,600,100)\n",
    "max_depth = [1,2,4,8]\n",
    "learning_rate = [.05,.1,.2,.5,1]\n",
    "\n",
    "param_dist = {'n_estimators': n_estimators, 'max_depth':max_depth, 'learning_rate':learning_rate}\n",
    "\n",
    "grid_cv_gbm = GridSearchCV(estimator =GradientBoostingClassifier(random_state=42) , param_grid = param_dist, cv = 5)\n",
    "grid_cv_gbm.fit(X_train_rfi, y_train)\n",
    "print(grid_cv_gbm.best_score_)\n",
    "print(grid_cv_gbm.best_params_)"
   ]
  },
  {
   "cell_type": "code",
   "execution_count": 49,
   "metadata": {
    "scrolled": true
   },
   "outputs": [
    {
     "name": "stdout",
     "output_type": "stream",
     "text": [
      "              precision    recall  f1-score   support\n",
      "\n",
      "           0       0.92      0.92      0.92        98\n",
      "           1       0.96      0.96      0.96       187\n",
      "\n",
      "    accuracy                           0.94       285\n",
      "   macro avg       0.94      0.94      0.94       285\n",
      "weighted avg       0.94      0.94      0.94       285\n",
      "\n"
     ]
    },
    {
     "data": {
      "text/plain": [
       "0.9438596491228071"
      ]
     },
     "execution_count": 49,
     "metadata": {},
     "output_type": "execute_result"
    }
   ],
   "source": [
    "print(classification_report(y_test, grid_cv_gbm.best_estimator_.predict(X_test_rfi)))\n",
    "grid_cv_gbm.best_estimator_.score(X_test_rfi, y_test)\n"
   ]
  },
  {
   "cell_type": "code",
   "execution_count": 50,
   "metadata": {},
   "outputs": [],
   "source": [
    "y_score =grid_cv_gbm.best_estimator_.predict_proba(X_test_rfi)[:,1]\n"
   ]
  },
  {
   "cell_type": "code",
   "execution_count": 51,
   "metadata": {},
   "outputs": [
    {
     "data": {
      "text/plain": [
       "0.9915420713740042"
      ]
     },
     "execution_count": 51,
     "metadata": {},
     "output_type": "execute_result"
    }
   ],
   "source": [
    "metrics.roc_auc_score(y_test, y_score)"
   ]
  },
  {
   "cell_type": "markdown",
   "metadata": {},
   "source": [
    "#### Testing selected data set "
   ]
  },
  {
   "cell_type": "code",
   "execution_count": 105,
   "metadata": {},
   "outputs": [],
   "source": [
    "model_params = {\n",
    "    'random_forest': {'model': RandomForestClassifier(random_state=42),\n",
    "                      'params' : {\n",
    "              'n_estimators': [4, 6, 9, 10, 15], \n",
    "              'max_features': ['log2', 'sqrt','auto'], \n",
    "              'criterion': ['entropy', 'gini'],\n",
    "              'max_depth': [2, 3, 5, 10], \n",
    "              'min_samples_split': [2, 3, 5],\n",
    "              'min_samples_leaf': [1, 5, 8]}},\n",
    "    'logistic_regression' : {'model': LogisticRegression(random_state=42),\n",
    "                            'params': {\n",
    "                                'penalty': ['l1', 'l2', 'none'],\n",
    "                                'solver':['newton-cg', 'lbfgs', 'liblinear', 'sag', 'saga'],\n",
    "                                'max_iter': np.arange(100, 200, 10),\n",
    "                                'C':np.arange(0, 1.5, 0.2)}},\n",
    "    'gradient_boosting' : {'model': GradientBoostingClassifier(random_state=42),\n",
    "                       'params': {\n",
    "                           'n_estimators': np.arange(100,600,100), \n",
    "                           'max_depth':[1,2,4,8], \n",
    "                           'learning_rate':[.05,.1,.2,.5,1]}}\n",
    "}\n"
   ]
  },
  {
   "cell_type": "code",
   "execution_count": 106,
   "metadata": {},
   "outputs": [],
   "source": [
    "scores = []\n",
    "\n",
    "for model_name, mp in model_params.items():\n",
    "    clf =  GridSearchCV(mp['model'], mp['params'], cv=5, return_train_score=False)\n",
    "    clf.fit(X_train_rfi,y_train)\n",
    "    scores.append({\n",
    "        'model': model_name,\n",
    "        'best_score': clf.best_score_,\n",
    "        'best_params': clf.best_params_\n",
    "    })\n",
    "    \n",
    "df_model = pd.DataFrame(scores,columns=['model','best_score','best_params'])\n",
    "df_model.to_csv('models.csv')"
   ]
  },
  {
   "cell_type": "code",
   "execution_count": 108,
   "metadata": {
    "scrolled": false
   },
   "outputs": [
    {
     "name": "stdout",
     "output_type": "stream",
     "text": [
      "              precision    recall  f1-score   support\n",
      "\n",
      "           0       0.92      0.92      0.92        98\n",
      "           1       0.96      0.96      0.96       187\n",
      "\n",
      "    accuracy                           0.94       285\n",
      "   macro avg       0.94      0.94      0.94       285\n",
      "weighted avg       0.94      0.94      0.94       285\n",
      "\n"
     ]
    }
   ],
   "source": [
    "print(classification_report(y_test, clf.best_estimator_.predict(X_test_rfi)))\n"
   ]
  },
  {
   "cell_type": "code",
   "execution_count": 110,
   "metadata": {},
   "outputs": [
    {
     "data": {
      "image/png": "[encoded data removed]",
      "text/plain": [
       "<Figure size 432x288 with 2 Axes>"
      ]
     },
     "metadata": {
      "needs_background": "light"
     },
     "output_type": "display_data"
    }
   ],
   "source": [
    "\n",
    "plot_confusion_matrix(clf,X_test_rfi, y_test)\n",
    "plt.title(\"Confusion Matrix for Test Data\")\n",
    "plt.savefig('matrix_final.png')\n",
    "plt.show()"
   ]
  },
  {
   "cell_type": "markdown",
   "metadata": {},
   "source": [
    "## Fine Tuning  <a class=\"anchor\" id=\"fine\"></a>"
   ]
  },
  {
   "cell_type": "code",
   "execution_count": 61,
   "metadata": {
    "scrolled": false
   },
   "outputs": [
    {
     "data": {
      "text/html": [
       "<div>\n",
       "<style scoped>\n",
       "    .dataframe tbody tr th:only-of-type {\n",
       "        vertical-align: middle;\n",
       "    }\n",
       "\n",
       "    .dataframe tbody tr th {\n",
       "        vertical-align: top;\n",
       "    }\n",
       "\n",
       "    .dataframe thead th {\n",
       "        text-align: right;\n",
       "    }\n",
       "</style>\n",
       "<table border=\"1\" class=\"dataframe\">\n",
       "  <thead>\n",
       "    <tr style=\"text-align: right;\">\n",
       "      <th></th>\n",
       "      <th>model</th>\n",
       "      <th>best_score</th>\n",
       "      <th>best_params</th>\n",
       "    </tr>\n",
       "  </thead>\n",
       "  <tbody>\n",
       "    <tr>\n",
       "      <th>1</th>\n",
       "      <td>logistic_regression</td>\n",
       "      <td>0.967647</td>\n",
       "      <td>{'C': 1.0, 'max_iter': 100, 'penalty': 'l1', '...</td>\n",
       "    </tr>\n",
       "    <tr>\n",
       "      <th>2</th>\n",
       "      <td>gradient_boosting</td>\n",
       "      <td>0.952941</td>\n",
       "      <td>{'learning_rate': 0.5, 'max_depth': 2, 'n_esti...</td>\n",
       "    </tr>\n",
       "    <tr>\n",
       "      <th>0</th>\n",
       "      <td>random_forest</td>\n",
       "      <td>0.947059</td>\n",
       "      <td>{'criterion': 'entropy', 'max_depth': 5, 'max_...</td>\n",
       "    </tr>\n",
       "  </tbody>\n",
       "</table>\n",
       "</div>"
      ],
      "text/plain": [
       "                 model  best_score  \\\n",
       "1  logistic_regression    0.967647   \n",
       "2    gradient_boosting    0.952941   \n",
       "0        random_forest    0.947059   \n",
       "\n",
       "                                         best_params  \n",
       "1  {'C': 1.0, 'max_iter': 100, 'penalty': 'l1', '...  \n",
       "2  {'learning_rate': 0.5, 'max_depth': 2, 'n_esti...  \n",
       "0  {'criterion': 'entropy', 'max_depth': 5, 'max_...  "
      ]
     },
     "execution_count": 61,
     "metadata": {},
     "output_type": "execute_result"
    }
   ],
   "source": [
    "df_model.sort_values(by='best_score', ascending=False)"
   ]
  },
  {
   "cell_type": "code",
   "execution_count": 66,
   "metadata": {},
   "outputs": [
    {
     "data": {
      "text/plain": [
       "LogisticRegression(penalty='l1', random_state=42, solver='liblinear')"
      ]
     },
     "execution_count": 66,
     "metadata": {},
     "output_type": "execute_result"
    }
   ],
   "source": [
    "clf = LogisticRegression(random_state=42, max_iter=100, penalty='l1', solver='liblinear')\n",
    "clf.fit(X_train_rfi, y_train)"
   ]
  },
  {
   "cell_type": "code",
   "execution_count": 67,
   "metadata": {},
   "outputs": [],
   "source": [
    "probs = clf.predict_proba(X_test_rfi)\n",
    "preds = probs[:,1]\n",
    "\n",
    "\n",
    "precision, recall, thresholds = precision_recall_curve(y_test, preds)\n",
    "fpr, tpr, threshold = metrics.roc_curve(y_test, preds)\n",
    "\n",
    "\n",
    "y_score =clf.predict_proba(X_test_rfi)[:, 1]\n",
    "roc_auc = metrics.roc_auc_score(y_test, y_score)\n",
    "\n",
    "#pr_auc = metrics.auc(fpr, tpr)\n",
    "pr_auc = metrics.auc(recall, precision)\n"
   ]
  },
  {
   "cell_type": "code",
   "execution_count": 99,
   "metadata": {},
   "outputs": [
    {
     "data": {
      "text/plain": [
       "0.9969442322383499"
      ]
     },
     "execution_count": 99,
     "metadata": {},
     "output_type": "execute_result"
    }
   ],
   "source": [
    "roc_auc"
   ]
  },
  {
   "cell_type": "code",
   "execution_count": 100,
   "metadata": {
    "scrolled": true
   },
   "outputs": [
    {
     "data": {
      "text/plain": [
       "0.9983628540530622"
      ]
     },
     "execution_count": 100,
     "metadata": {},
     "output_type": "execute_result"
    }
   ],
   "source": [
    "pr_auc"
   ]
  },
  {
   "cell_type": "code",
   "execution_count": 98,
   "metadata": {
    "scrolled": true
   },
   "outputs": [
    {
     "data": {
      "image/png": "[encoded data removed]",
      "text/plain": [
       "<Figure size 864x432 with 2 Axes>"
      ]
     },
     "metadata": {
      "needs_background": "light"
     },
     "output_type": "display_data"
    }
   ],
   "source": [
    "h_line = len(y_test[y_test==1]) / len(y_test) # no skill line in precision/recall curve\n",
    "\n",
    "_ = plt.subplots(figsize=(12,6))\n",
    "f1 = plt.subplot(1,2,1)\n",
    "_ = plt.plot(fpr, tpr)\n",
    "_ = plt.plot([0,1],[0,1], 'k--')\n",
    "_ = plt.xlabel('False Positive Rate')\n",
    "_ = plt.ylabel('True Positive Rate')\n",
    "_ = plt.title('ROC Curve')\n",
    "_ = plt.legend([f'auc score: {round(roc_auc, 4)}'], loc='lower right')\n",
    "\n",
    "f2 = plt.subplot(1,2,2)\n",
    "_ = plt.plot(recall, precision)\n",
    "_ = plt.plot([0, 1], [h_line, h_line], linestyle='--', color='k')\n",
    "_ = plt.xlabel('Recall')\n",
    "_ = plt.ylabel('Precision')\n",
    "_ = plt.title('Precision-Recall Curve')\n",
    "_ = plt.legend([f'auc score: {round(pr_auc, 4)}'], loc='lower right')\n",
    "plt.savefig('ROC_PR.png') \n",
    "plt.tight_layout()"
   ]
  },
  {
   "cell_type": "markdown",
   "metadata": {},
   "source": [
    "### Decision Threshold <a class=\"anchor\" id=\"fine\"></a>"
   ]
  },
  {
   "cell_type": "code",
   "execution_count": 79,
   "metadata": {},
   "outputs": [],
   "source": [
    "pred_df = pd.DataFrame({'precision':precision[:-1], 'recall':recall[:-1], 'threshold':thresholds})"
   ]
  },
  {
   "cell_type": "code",
   "execution_count": 80,
   "metadata": {
    "scrolled": false
   },
   "outputs": [
    {
     "data": {
      "text/html": [
       "<div>\n",
       "<style scoped>\n",
       "    .dataframe tbody tr th:only-of-type {\n",
       "        vertical-align: middle;\n",
       "    }\n",
       "\n",
       "    .dataframe tbody tr th {\n",
       "        vertical-align: top;\n",
       "    }\n",
       "\n",
       "    .dataframe thead th {\n",
       "        text-align: right;\n",
       "    }\n",
       "</style>\n",
       "<table border=\"1\" class=\"dataframe\">\n",
       "  <thead>\n",
       "    <tr style=\"text-align: right;\">\n",
       "      <th></th>\n",
       "      <th>precision</th>\n",
       "      <th>recall</th>\n",
       "      <th>threshold</th>\n",
       "    </tr>\n",
       "  </thead>\n",
       "  <tbody>\n",
       "    <tr>\n",
       "      <th>0</th>\n",
       "      <td>0.958974</td>\n",
       "      <td>1.000000</td>\n",
       "      <td>0.201174</td>\n",
       "    </tr>\n",
       "    <tr>\n",
       "      <th>1</th>\n",
       "      <td>0.958763</td>\n",
       "      <td>0.994652</td>\n",
       "      <td>0.219432</td>\n",
       "    </tr>\n",
       "    <tr>\n",
       "      <th>2</th>\n",
       "      <td>0.958549</td>\n",
       "      <td>0.989305</td>\n",
       "      <td>0.236430</td>\n",
       "    </tr>\n",
       "    <tr>\n",
       "      <th>3</th>\n",
       "      <td>0.963542</td>\n",
       "      <td>0.989305</td>\n",
       "      <td>0.237435</td>\n",
       "    </tr>\n",
       "    <tr>\n",
       "      <th>4</th>\n",
       "      <td>0.963351</td>\n",
       "      <td>0.983957</td>\n",
       "      <td>0.256265</td>\n",
       "    </tr>\n",
       "  </tbody>\n",
       "</table>\n",
       "</div>"
      ],
      "text/plain": [
       "   precision    recall  threshold\n",
       "0   0.958974  1.000000   0.201174\n",
       "1   0.958763  0.994652   0.219432\n",
       "2   0.958549  0.989305   0.236430\n",
       "3   0.963542  0.989305   0.237435\n",
       "4   0.963351  0.983957   0.256265"
      ]
     },
     "execution_count": 80,
     "metadata": {},
     "output_type": "execute_result"
    }
   ],
   "source": [
    "pred_df.head()"
   ]
  },
  {
   "cell_type": "code",
   "execution_count": 81,
   "metadata": {},
   "outputs": [],
   "source": [
    "beta = 2.0"
   ]
  },
  {
   "cell_type": "code",
   "execution_count": 83,
   "metadata": {},
   "outputs": [],
   "source": [
    "pred_df = pred_df.assign(fb_2 = lambda x : ((1 + beta**2) * (x.precision * x.recall) / (beta**2 * x.precision + x.recall)))"
   ]
  },
  {
   "cell_type": "code",
   "execution_count": 85,
   "metadata": {},
   "outputs": [],
   "source": [
    "beta = 3.0\n",
    "pred_df = pred_df.assign(fb_3 = lambda x : ((1 + beta**2) * (x.precision * x.recall) / (beta**2 * x.precision + x.recall)))"
   ]
  },
  {
   "cell_type": "code",
   "execution_count": 86,
   "metadata": {
    "scrolled": true
   },
   "outputs": [
    {
     "data": {
      "text/html": [
       "<div>\n",
       "<style scoped>\n",
       "    .dataframe tbody tr th:only-of-type {\n",
       "        vertical-align: middle;\n",
       "    }\n",
       "\n",
       "    .dataframe tbody tr th {\n",
       "        vertical-align: top;\n",
       "    }\n",
       "\n",
       "    .dataframe thead th {\n",
       "        text-align: right;\n",
       "    }\n",
       "</style>\n",
       "<table border=\"1\" class=\"dataframe\">\n",
       "  <thead>\n",
       "    <tr style=\"text-align: right;\">\n",
       "      <th></th>\n",
       "      <th>precision</th>\n",
       "      <th>recall</th>\n",
       "      <th>threshold</th>\n",
       "      <th>fb_2</th>\n",
       "      <th>fb_3</th>\n",
       "    </tr>\n",
       "  </thead>\n",
       "  <tbody>\n",
       "    <tr>\n",
       "      <th>0</th>\n",
       "      <td>0.958974</td>\n",
       "      <td>1.000000</td>\n",
       "      <td>0.201174</td>\n",
       "      <td>0.991516</td>\n",
       "      <td>0.995740</td>\n",
       "    </tr>\n",
       "    <tr>\n",
       "      <th>1</th>\n",
       "      <td>0.958763</td>\n",
       "      <td>0.994652</td>\n",
       "      <td>0.219432</td>\n",
       "      <td>0.987261</td>\n",
       "      <td>0.990943</td>\n",
       "    </tr>\n",
       "    <tr>\n",
       "      <th>2</th>\n",
       "      <td>0.958549</td>\n",
       "      <td>0.989305</td>\n",
       "      <td>0.236430</td>\n",
       "      <td>0.982997</td>\n",
       "      <td>0.986141</td>\n",
       "    </tr>\n",
       "    <tr>\n",
       "      <th>3</th>\n",
       "      <td>0.963542</td>\n",
       "      <td>0.989305</td>\n",
       "      <td>0.237435</td>\n",
       "      <td>0.984043</td>\n",
       "      <td>0.986667</td>\n",
       "    </tr>\n",
       "    <tr>\n",
       "      <th>4</th>\n",
       "      <td>0.963351</td>\n",
       "      <td>0.983957</td>\n",
       "      <td>0.256265</td>\n",
       "      <td>0.979766</td>\n",
       "      <td>0.981857</td>\n",
       "    </tr>\n",
       "  </tbody>\n",
       "</table>\n",
       "</div>"
      ],
      "text/plain": [
       "   precision    recall  threshold      fb_2      fb_3\n",
       "0   0.958974  1.000000   0.201174  0.991516  0.995740\n",
       "1   0.958763  0.994652   0.219432  0.987261  0.990943\n",
       "2   0.958549  0.989305   0.236430  0.982997  0.986141\n",
       "3   0.963542  0.989305   0.237435  0.984043  0.986667\n",
       "4   0.963351  0.983957   0.256265  0.979766  0.981857"
      ]
     },
     "execution_count": 86,
     "metadata": {},
     "output_type": "execute_result"
    }
   ],
   "source": [
    "pred_df.head()"
   ]
  },
  {
   "cell_type": "code",
   "execution_count": 87,
   "metadata": {
    "scrolled": true
   },
   "outputs": [
    {
     "data": {
      "text/html": [
       "<div>\n",
       "<style scoped>\n",
       "    .dataframe tbody tr th:only-of-type {\n",
       "        vertical-align: middle;\n",
       "    }\n",
       "\n",
       "    .dataframe tbody tr th {\n",
       "        vertical-align: top;\n",
       "    }\n",
       "\n",
       "    .dataframe thead th {\n",
       "        text-align: right;\n",
       "    }\n",
       "</style>\n",
       "<table border=\"1\" class=\"dataframe\">\n",
       "  <thead>\n",
       "    <tr style=\"text-align: right;\">\n",
       "      <th></th>\n",
       "      <th>precision</th>\n",
       "      <th>recall</th>\n",
       "      <th>threshold</th>\n",
       "      <th>fb_2</th>\n",
       "      <th>fb_3</th>\n",
       "    </tr>\n",
       "  </thead>\n",
       "  <tbody>\n",
       "    <tr>\n",
       "      <th>0</th>\n",
       "      <td>0.958974</td>\n",
       "      <td>1.0</td>\n",
       "      <td>0.201174</td>\n",
       "      <td>0.991516</td>\n",
       "      <td>0.99574</td>\n",
       "    </tr>\n",
       "  </tbody>\n",
       "</table>\n",
       "</div>"
      ],
      "text/plain": [
       "   precision  recall  threshold      fb_2     fb_3\n",
       "0   0.958974     1.0   0.201174  0.991516  0.99574"
      ]
     },
     "execution_count": 87,
     "metadata": {},
     "output_type": "execute_result"
    }
   ],
   "source": [
    "pred_df[pred_df.recall == 1].sort_values(by='precision', ascending=False).head(1)"
   ]
  },
  {
   "cell_type": "code",
   "execution_count": 92,
   "metadata": {},
   "outputs": [
    {
     "data": {
      "text/html": [
       "<div>\n",
       "<style scoped>\n",
       "    .dataframe tbody tr th:only-of-type {\n",
       "        vertical-align: middle;\n",
       "    }\n",
       "\n",
       "    .dataframe tbody tr th {\n",
       "        vertical-align: top;\n",
       "    }\n",
       "\n",
       "    .dataframe thead th {\n",
       "        text-align: right;\n",
       "    }\n",
       "</style>\n",
       "<table border=\"1\" class=\"dataframe\">\n",
       "  <thead>\n",
       "    <tr style=\"text-align: right;\">\n",
       "      <th></th>\n",
       "      <th>precision</th>\n",
       "      <th>recall</th>\n",
       "      <th>threshold</th>\n",
       "      <th>fb_2</th>\n",
       "      <th>fb_3</th>\n",
       "    </tr>\n",
       "  </thead>\n",
       "  <tbody>\n",
       "    <tr>\n",
       "      <th>0</th>\n",
       "      <td>0.958974</td>\n",
       "      <td>1.000000</td>\n",
       "      <td>0.201174</td>\n",
       "      <td>0.991516</td>\n",
       "      <td>0.995740</td>\n",
       "    </tr>\n",
       "    <tr>\n",
       "      <th>1</th>\n",
       "      <td>0.958763</td>\n",
       "      <td>0.994652</td>\n",
       "      <td>0.219432</td>\n",
       "      <td>0.987261</td>\n",
       "      <td>0.990943</td>\n",
       "    </tr>\n",
       "    <tr>\n",
       "      <th>3</th>\n",
       "      <td>0.963542</td>\n",
       "      <td>0.989305</td>\n",
       "      <td>0.237435</td>\n",
       "      <td>0.984043</td>\n",
       "      <td>0.986667</td>\n",
       "    </tr>\n",
       "    <tr>\n",
       "      <th>8</th>\n",
       "      <td>0.983957</td>\n",
       "      <td>0.983957</td>\n",
       "      <td>0.368590</td>\n",
       "      <td>0.983957</td>\n",
       "      <td>0.983957</td>\n",
       "    </tr>\n",
       "    <tr>\n",
       "      <th>2</th>\n",
       "      <td>0.958549</td>\n",
       "      <td>0.989305</td>\n",
       "      <td>0.236430</td>\n",
       "      <td>0.982997</td>\n",
       "      <td>0.986141</td>\n",
       "    </tr>\n",
       "    <tr>\n",
       "      <th>7</th>\n",
       "      <td>0.978723</td>\n",
       "      <td>0.983957</td>\n",
       "      <td>0.346404</td>\n",
       "      <td>0.982906</td>\n",
       "      <td>0.983431</td>\n",
       "    </tr>\n",
       "    <tr>\n",
       "      <th>6</th>\n",
       "      <td>0.973545</td>\n",
       "      <td>0.983957</td>\n",
       "      <td>0.338821</td>\n",
       "      <td>0.981857</td>\n",
       "      <td>0.982906</td>\n",
       "    </tr>\n",
       "    <tr>\n",
       "      <th>5</th>\n",
       "      <td>0.968421</td>\n",
       "      <td>0.983957</td>\n",
       "      <td>0.282604</td>\n",
       "      <td>0.980810</td>\n",
       "      <td>0.982381</td>\n",
       "    </tr>\n",
       "    <tr>\n",
       "      <th>4</th>\n",
       "      <td>0.963351</td>\n",
       "      <td>0.983957</td>\n",
       "      <td>0.256265</td>\n",
       "      <td>0.979766</td>\n",
       "      <td>0.981857</td>\n",
       "    </tr>\n",
       "    <tr>\n",
       "      <th>9</th>\n",
       "      <td>0.983871</td>\n",
       "      <td>0.978610</td>\n",
       "      <td>0.411361</td>\n",
       "      <td>0.979657</td>\n",
       "      <td>0.979133</td>\n",
       "    </tr>\n",
       "  </tbody>\n",
       "</table>\n",
       "</div>"
      ],
      "text/plain": [
       "   precision    recall  threshold      fb_2      fb_3\n",
       "0   0.958974  1.000000   0.201174  0.991516  0.995740\n",
       "1   0.958763  0.994652   0.219432  0.987261  0.990943\n",
       "3   0.963542  0.989305   0.237435  0.984043  0.986667\n",
       "8   0.983957  0.983957   0.368590  0.983957  0.983957\n",
       "2   0.958549  0.989305   0.236430  0.982997  0.986141\n",
       "7   0.978723  0.983957   0.346404  0.982906  0.983431\n",
       "6   0.973545  0.983957   0.338821  0.981857  0.982906\n",
       "5   0.968421  0.983957   0.282604  0.980810  0.982381\n",
       "4   0.963351  0.983957   0.256265  0.979766  0.981857\n",
       "9   0.983871  0.978610   0.411361  0.979657  0.979133"
      ]
     },
     "execution_count": 92,
     "metadata": {},
     "output_type": "execute_result"
    }
   ],
   "source": [
    "pred_df.sort_values('fb_2', ascending=False).head(10)"
   ]
  },
  {
   "cell_type": "code",
   "execution_count": 91,
   "metadata": {},
   "outputs": [
    {
     "data": {
      "text/html": [
       "<div>\n",
       "<style scoped>\n",
       "    .dataframe tbody tr th:only-of-type {\n",
       "        vertical-align: middle;\n",
       "    }\n",
       "\n",
       "    .dataframe tbody tr th {\n",
       "        vertical-align: top;\n",
       "    }\n",
       "\n",
       "    .dataframe thead th {\n",
       "        text-align: right;\n",
       "    }\n",
       "</style>\n",
       "<table border=\"1\" class=\"dataframe\">\n",
       "  <thead>\n",
       "    <tr style=\"text-align: right;\">\n",
       "      <th></th>\n",
       "      <th>precision</th>\n",
       "      <th>recall</th>\n",
       "      <th>threshold</th>\n",
       "      <th>fb_2</th>\n",
       "      <th>fb_3</th>\n",
       "    </tr>\n",
       "  </thead>\n",
       "  <tbody>\n",
       "    <tr>\n",
       "      <th>0</th>\n",
       "      <td>0.958974</td>\n",
       "      <td>1.000000</td>\n",
       "      <td>0.201174</td>\n",
       "      <td>0.991516</td>\n",
       "      <td>0.995740</td>\n",
       "    </tr>\n",
       "    <tr>\n",
       "      <th>1</th>\n",
       "      <td>0.958763</td>\n",
       "      <td>0.994652</td>\n",
       "      <td>0.219432</td>\n",
       "      <td>0.987261</td>\n",
       "      <td>0.990943</td>\n",
       "    </tr>\n",
       "    <tr>\n",
       "      <th>3</th>\n",
       "      <td>0.963542</td>\n",
       "      <td>0.989305</td>\n",
       "      <td>0.237435</td>\n",
       "      <td>0.984043</td>\n",
       "      <td>0.986667</td>\n",
       "    </tr>\n",
       "    <tr>\n",
       "      <th>2</th>\n",
       "      <td>0.958549</td>\n",
       "      <td>0.989305</td>\n",
       "      <td>0.236430</td>\n",
       "      <td>0.982997</td>\n",
       "      <td>0.986141</td>\n",
       "    </tr>\n",
       "    <tr>\n",
       "      <th>8</th>\n",
       "      <td>0.983957</td>\n",
       "      <td>0.983957</td>\n",
       "      <td>0.368590</td>\n",
       "      <td>0.983957</td>\n",
       "      <td>0.983957</td>\n",
       "    </tr>\n",
       "    <tr>\n",
       "      <th>7</th>\n",
       "      <td>0.978723</td>\n",
       "      <td>0.983957</td>\n",
       "      <td>0.346404</td>\n",
       "      <td>0.982906</td>\n",
       "      <td>0.983431</td>\n",
       "    </tr>\n",
       "    <tr>\n",
       "      <th>6</th>\n",
       "      <td>0.973545</td>\n",
       "      <td>0.983957</td>\n",
       "      <td>0.338821</td>\n",
       "      <td>0.981857</td>\n",
       "      <td>0.982906</td>\n",
       "    </tr>\n",
       "    <tr>\n",
       "      <th>5</th>\n",
       "      <td>0.968421</td>\n",
       "      <td>0.983957</td>\n",
       "      <td>0.282604</td>\n",
       "      <td>0.980810</td>\n",
       "      <td>0.982381</td>\n",
       "    </tr>\n",
       "    <tr>\n",
       "      <th>4</th>\n",
       "      <td>0.963351</td>\n",
       "      <td>0.983957</td>\n",
       "      <td>0.256265</td>\n",
       "      <td>0.979766</td>\n",
       "      <td>0.981857</td>\n",
       "    </tr>\n",
       "    <tr>\n",
       "      <th>9</th>\n",
       "      <td>0.983871</td>\n",
       "      <td>0.978610</td>\n",
       "      <td>0.411361</td>\n",
       "      <td>0.979657</td>\n",
       "      <td>0.979133</td>\n",
       "    </tr>\n",
       "  </tbody>\n",
       "</table>\n",
       "</div>"
      ],
      "text/plain": [
       "   precision    recall  threshold      fb_2      fb_3\n",
       "0   0.958974  1.000000   0.201174  0.991516  0.995740\n",
       "1   0.958763  0.994652   0.219432  0.987261  0.990943\n",
       "3   0.963542  0.989305   0.237435  0.984043  0.986667\n",
       "2   0.958549  0.989305   0.236430  0.982997  0.986141\n",
       "8   0.983957  0.983957   0.368590  0.983957  0.983957\n",
       "7   0.978723  0.983957   0.346404  0.982906  0.983431\n",
       "6   0.973545  0.983957   0.338821  0.981857  0.982906\n",
       "5   0.968421  0.983957   0.282604  0.980810  0.982381\n",
       "4   0.963351  0.983957   0.256265  0.979766  0.981857\n",
       "9   0.983871  0.978610   0.411361  0.979657  0.979133"
      ]
     },
     "execution_count": 91,
     "metadata": {},
     "output_type": "execute_result"
    }
   ],
   "source": [
    "pred_df.sort_values('fb_3', ascending=False).head(10)\n"
   ]
  },
  {
   "cell_type": "code",
   "execution_count": 93,
   "metadata": {
    "scrolled": true
   },
   "outputs": [
    {
     "data": {
      "text/html": [
       "<div>\n",
       "<style scoped>\n",
       "    .dataframe tbody tr th:only-of-type {\n",
       "        vertical-align: middle;\n",
       "    }\n",
       "\n",
       "    .dataframe tbody tr th {\n",
       "        vertical-align: top;\n",
       "    }\n",
       "\n",
       "    .dataframe thead th {\n",
       "        text-align: right;\n",
       "    }\n",
       "</style>\n",
       "<table border=\"1\" class=\"dataframe\">\n",
       "  <thead>\n",
       "    <tr style=\"text-align: right;\">\n",
       "      <th></th>\n",
       "      <th>precision</th>\n",
       "      <th>recall</th>\n",
       "      <th>threshold</th>\n",
       "      <th>fb_2</th>\n",
       "      <th>fb_3</th>\n",
       "    </tr>\n",
       "  </thead>\n",
       "  <tbody>\n",
       "    <tr>\n",
       "      <th>34</th>\n",
       "      <td>1.0</td>\n",
       "      <td>0.860963</td>\n",
       "      <td>0.864173</td>\n",
       "      <td>0.885589</td>\n",
       "      <td>0.873102</td>\n",
       "    </tr>\n",
       "  </tbody>\n",
       "</table>\n",
       "</div>"
      ],
      "text/plain": [
       "    precision    recall  threshold      fb_2      fb_3\n",
       "34        1.0  0.860963   0.864173  0.885589  0.873102"
      ]
     },
     "execution_count": 93,
     "metadata": {},
     "output_type": "execute_result"
    }
   ],
   "source": [
    "pred_df[pred_df.precision == 1].sort_values(by='recall', ascending=False).head(1)"
   ]
  },
  {
   "cell_type": "code",
   "execution_count": 101,
   "metadata": {},
   "outputs": [],
   "source": [
    "pred_df.to_csv(\"pre_df.csv\")"
   ]
  },
  {
   "cell_type": "code",
   "execution_count": 103,
   "metadata": {
    "scrolled": true
   },
   "outputs": [
    {
     "data": {
      "image/png": "[encoded data removed]",
      "text/plain": [
       "<Figure size 504x504 with 1 Axes>"
      ]
     },
     "metadata": {
      "needs_background": "light"
     },
     "output_type": "display_data"
    }
   ],
   "source": [
    "_ = plt.figure(figsize=(7, 7))\n",
    "_ = plt.title('Precision and Recall Scores As A Function Of The Decision Threshold')\n",
    "_ = plt.plot(thresholds, precision[:-1], '--', label='Precision')\n",
    "_ = plt.plot(thresholds, recall[:-1], '-', label='Recall')\n",
    "_ = plt.axvline(x=0.368590, c='black')\n",
    "_ = plt.annotate('Balanced Threshold', xy=(0.34,0.1), rotation=90)\n",
    "_ = plt.axvline(x=0.864173, c='k', ls=':')\n",
    "_ = plt.annotate('Max Precision', xy=(0.840,0.1), rotation=90)\n",
    "_ = plt.axvline(x=0.201174, c='k', ls=':')\n",
    "_ = plt.annotate('Max Recall, Fbeta=2, Fbeta=3', xy=(0.180,0.1), rotation=90)\n",
    "_ = plt.ylabel('Score')\n",
    "_ = plt.xlabel('Decision Threshold')\n",
    "_ = plt.savefig('Decision.png') \n",
    "_ = plt.legend(loc='best')"
   ]
  },
  {
   "cell_type": "markdown",
   "metadata": {},
   "source": [
    "### Classification Report and Confusion Matrix <a class=\"anchor\" id=\"class\"></a>"
   ]
  },
  {
   "cell_type": "code",
   "execution_count": 117,
   "metadata": {},
   "outputs": [],
   "source": [
    "# Adjust the decision thresholds  \n",
    "max_pred = np.where(preds >= 0.201174, 1, 0)\n",
    "bal_pred = np.where(preds >= 0.368590, 1, 0)"
   ]
  },
  {
   "cell_type": "code",
   "execution_count": 111,
   "metadata": {},
   "outputs": [],
   "source": [
    "target_names = ['malignant', 'benign']"
   ]
  },
  {
   "cell_type": "code",
   "execution_count": 119,
   "metadata": {
    "scrolled": true
   },
   "outputs": [
    {
     "name": "stdout",
     "output_type": "stream",
     "text": [
      "Classification Report - Max Recall\n",
      "              precision    recall  f1-score   support\n",
      "\n",
      "   malignant       1.00      0.92      0.96        98\n",
      "      benign       0.96      1.00      0.98       187\n",
      "\n",
      "    accuracy                           0.97       285\n",
      "   macro avg       0.98      0.96      0.97       285\n",
      "weighted avg       0.97      0.97      0.97       285\n",
      "\n"
     ]
    }
   ],
   "source": [
    "print('Classification Report - Max Recall')\n",
    "print(classification_report(y_test, max_pred, target_names=target_names))"
   ]
  },
  {
   "cell_type": "code",
   "execution_count": 123,
   "metadata": {},
   "outputs": [
    {
     "data": {
      "text/plain": [
       "array([[ 90,   8],\n",
       "       [  0, 187]])"
      ]
     },
     "execution_count": 123,
     "metadata": {},
     "output_type": "execute_result"
    }
   ],
   "source": [
    "confusion_matrix(y_test, max_pred)"
   ]
  },
  {
   "cell_type": "code",
   "execution_count": 120,
   "metadata": {
    "scrolled": true
   },
   "outputs": [
    {
     "name": "stdout",
     "output_type": "stream",
     "text": [
      "Classification Report - Balanced Recall/Precision\n",
      "              precision    recall  f1-score   support\n",
      "\n",
      "   malignant       0.96      0.97      0.96        98\n",
      "      benign       0.98      0.98      0.98       187\n",
      "\n",
      "    accuracy                           0.98       285\n",
      "   macro avg       0.97      0.97      0.97       285\n",
      "weighted avg       0.98      0.98      0.98       285\n",
      "\n"
     ]
    }
   ],
   "source": [
    "print('Classification Report - Balanced Recall/Precision')\n",
    "print(classification_report(y_test, bal_pred, target_names=target_names))"
   ]
  },
  {
   "cell_type": "code",
   "execution_count": null,
   "metadata": {},
   "outputs": [],
   "source": []
  }
 ],
 "metadata": {
  "kernelspec": {
   "display_name": "Python 3",
   "language": "python",
   "name": "python3"
  },
  "language_info": {
   "codemirror_mode": {
    "name": "ipython",
    "version": 3
   },
   "file_extension": ".py",
   "mimetype": "text/x-python",
   "name": "python",
   "nbconvert_exporter": "python",
   "pygments_lexer": "ipython3",
   "version": "3.8.5"
  }
 },
 "nbformat": 4,
 "nbformat_minor": 4
}
