{
 "cells": [
  {
   "cell_type": "code",
   "execution_count": 2,
   "metadata": {},
   "outputs": [],
   "source": [
    "from collections import defaultdict\n",
    "from collections import Counter\n",
    "\n",
    "import numpy as np\n",
    "import pandas as pd\n",
    "import matplotlib.pyplot as plt\n",
    "import seaborn as sns\n",
    "import scipy.stats\n",
    "import imblearn\n",
    "import sklearn.metrics as metrics\n",
    "import xgboost\n",
    "\n",
    "from imblearn import under_sampling, over_sampling\n",
    "from imblearn.over_sampling import SMOTE\n",
    "from scipy.stats import spearmanr\n",
    "from scipy.cluster import hierarchy\n",
    "\n",
    "from sklearn.datasets import load_breast_cancer\n",
    "from sklearn.preprocessing import RobustScaler\n",
    "from sklearn.model_selection import train_test_split, GridSearchCV, cross_val_score\n",
    "from sklearn.pipeline import Pipeline\n",
    "from sklearn.pipeline import make_pipeline\n",
    "from sklearn.linear_model import LogisticRegression, LassoCV, Lasso\n",
    "from sklearn.ensemble import RandomForestClassifier, GradientBoostingClassifier, RandomForestRegressor\n",
    "from sklearn.inspection import permutation_importance\n",
    "from sklearn.feature_selection import SelectKBest, f_classif, SelectFromModel, chi2, RFE, RFECV\n",
    "from sklearn.metrics import classification_report, accuracy_score, confusion_matrix, precision_score, plot_confusion_matrix, f1_score, recall_score\n",
    "from sklearn.neighbors import  KNeighborsClassifier\n",
    "from sklearn.svm import SVC\n",
    "from sklearn.metrics import precision_recall_curve\n",
    "from sklearn.metrics import plot_precision_recall_curve\n",
    "from sklearn.metrics import average_precision_score\n",
    "from xgboost import XGBClassifier\n",
    "from sklearn import svm\n",
    "from sklearn.metrics import fbeta_score\n",
    "\n",
    "import warnings\n",
    "warnings.filterwarnings(\"ignore\")\n",
    "\n",
    "%matplotlib inline"
   ]
  },
  {
   "cell_type": "code",
   "execution_count": 3,
   "metadata": {},
   "outputs": [],
   "source": [
    "#Setting up graph standards\n",
    "SMALL_SIZE = 8\n",
    "MEDIUM_SIZE = 10\n",
    "BIGGER_SIZE = 12\n",
    "\n",
    "plt.rc('font', size=SMALL_SIZE)          # controls default text sizes\n",
    "plt.rc('axes', titlesize=SMALL_SIZE)     # fontsize of the axes title\n",
    "plt.rc('axes', labelsize=MEDIUM_SIZE)    # fontsize of the x and y labels\n",
    "plt.rc('xtick', labelsize=SMALL_SIZE)    # fontsize of the tick labels\n",
    "plt.rc('ytick', labelsize=SMALL_SIZE)    # fontsize of the tick labels\n",
    "plt.rc('legend', fontsize=SMALL_SIZE)    # legend fontsize\n",
    "plt.rc('figure', titlesize=BIGGER_SIZE)  # fontsize of the figure title"
   ]
  },
  {
   "cell_type": "markdown",
   "metadata": {},
   "source": [
    "### Table of Contents\n",
    "\n",
    "* [Data Loading](#data_load)\n",
    "* [Baseline Evaluation: Logistic Regression](#base)\n",
    "* [Modeling](#mod)\n",
    "    * [Logistic Regression](#log)\n",
    "    * [Random Forest](#rf)\n",
    "    * [Gradient Boosting](#gbm)\n",
    "* [Fine Tuning](#fine)\n",
    "* [Decision Threshold](#desc)\n",
    "* [Classification Report and Confusion Matrix](#class)"
   ]
  },
  {
   "cell_type": "markdown",
   "metadata": {},
   "source": [
    "## Creating Different Feature Sets <a class=\"anchor\" id=\"data_load\"></a>"
   ]
  },
  {
   "cell_type": "markdown",
   "metadata": {},
   "source": [
    "#### Original Dataset"
   ]
  },
  {
   "cell_type": "code",
   "execution_count": 4,
   "metadata": {
    "scrolled": true
   },
   "outputs": [],
   "source": [
    "X = pd.DataFrame(load_breast_cancer().data)\n",
    "X.columns = load_breast_cancer().feature_names\n",
    "y = pd.DataFrame(load_breast_cancer().target)"
   ]
  },
  {
   "cell_type": "code",
   "execution_count": 5,
   "metadata": {},
   "outputs": [],
   "source": [
    "y = y.replace({0:True, 1:False})"
   ]
  },
  {
   "cell_type": "code",
   "execution_count": 6,
   "metadata": {},
   "outputs": [
    {
     "data": {
      "text/plain": [
       "False    357\n",
       "True     212\n",
       "dtype: int64"
      ]
     },
     "execution_count": 6,
     "metadata": {},
     "output_type": "execute_result"
    }
   ],
   "source": [
    "y.value_counts()"
   ]
  },
  {
   "cell_type": "code",
   "execution_count": 7,
   "metadata": {
    "scrolled": true
   },
   "outputs": [
    {
     "name": "stdout",
     "output_type": "stream",
     "text": [
      "Train Data: (284, 30), (284, 1)\n",
      "Test Data: (285, 30), (285, 1)\n"
     ]
    }
   ],
   "source": [
    "#Splitting test/train 50/50\n",
    "X_train, X_test, y_train, y_test = train_test_split(X, y, test_size = 0.5, random_state = 42)\n",
    "print(f\"Train Data: {X_train.shape}, {y_train.shape}\")\n",
    "print(f\"Test Data: {X_test.shape}, {y_test.shape}\")"
   ]
  },
  {
   "cell_type": "code",
   "execution_count": 8,
   "metadata": {},
   "outputs": [
    {
     "name": "stdout",
     "output_type": "stream",
     "text": [
      "Total Data after Upsampling: 340\n",
      "Train Data: (340, 30), (340, 1)\n",
      "Test Data: (285, 30), (285, 1)\n",
      "Scaled Train Data: (340, 30), (340, 1)\n",
      "Scaled Test Data: (285, 30), (285, 1)\n"
     ]
    }
   ],
   "source": [
    "#Upsampling training data\n",
    "counter = Counter(y_train)\n",
    "upsample = SMOTE()\n",
    "X_train, y_train = upsample.fit_resample(X_train, y_train)\n",
    "\n",
    "print(f\"Total Data after Upsampling: {len(X_train)}\")\n",
    "print(f\"Train Data: {X_train.shape}, {y_train.shape}\")\n",
    "print(f\"Test Data: {X_test.shape}, {y_test.shape}\")\n",
    "\n",
    "#Scaling train and test data\n",
    "scaler = RobustScaler()\n",
    "X_train = scaler.fit_transform(X_train)\n",
    "X_test = scaler.transform(X_test)\n",
    "print(f\"Scaled Train Data: {X_train.shape}, {y_train.shape}\")\n",
    "print(f\"Scaled Test Data: {X_test.shape}, {y_test.shape}\")"
   ]
  },
  {
   "cell_type": "markdown",
   "metadata": {},
   "source": [
    "#### SelectKBest Feature Set<a class=\"anchor\" id=\"selectkbest\"></a>"
   ]
  },
  {
   "cell_type": "code",
   "execution_count": 9,
   "metadata": {},
   "outputs": [],
   "source": [
    "%store -r feature_set_skb"
   ]
  },
  {
   "cell_type": "code",
   "execution_count": 10,
   "metadata": {
    "scrolled": true
   },
   "outputs": [
    {
     "name": "stdout",
     "output_type": "stream",
     "text": [
      "Baseline Test Data: (285, 30)\n",
      "SelectKBest Test Data: (285, 15)\n"
     ]
    }
   ],
   "source": [
    "%store -r X_test_skb\n",
    "print(f\"Baseline Test Data: {X_test.shape}\")\n",
    "print(f\"SelectKBest Test Data: {X_test_skb.shape}\")"
   ]
  },
  {
   "cell_type": "markdown",
   "metadata": {},
   "source": [
    "#### Feature ranking with recursive feature elimination and cross-validated selection Feature Set <a class=\"anchor\" id=\"rfecv\"></a>"
   ]
  },
  {
   "cell_type": "code",
   "execution_count": 11,
   "metadata": {},
   "outputs": [],
   "source": [
    "%store -r rfecv_clf_feature_set"
   ]
  },
  {
   "cell_type": "code",
   "execution_count": 12,
   "metadata": {},
   "outputs": [
    {
     "name": "stdout",
     "output_type": "stream",
     "text": [
      "Baseline Test Data: (285, 30)\n",
      "RFECV Test Data: (285, 16)\n"
     ]
    }
   ],
   "source": [
    "%store -r X_test_rfecv\n",
    "print(f\"Baseline Test Data: {X_test.shape}\")\n",
    "print(f\"RFECV Test Data: {X_test_rfecv.shape}\")"
   ]
  },
  {
   "cell_type": "markdown",
   "metadata": {},
   "source": [
    "#### Lasso Feature Set <a class=\"anchor\" id=\"Lasso\"></a>"
   ]
  },
  {
   "cell_type": "code",
   "execution_count": 13,
   "metadata": {},
   "outputs": [],
   "source": [
    "%store -r sfm_feature_set"
   ]
  },
  {
   "cell_type": "code",
   "execution_count": 14,
   "metadata": {
    "scrolled": true
   },
   "outputs": [
    {
     "name": "stdout",
     "output_type": "stream",
     "text": [
      "Baseline Test Data: (285, 30)\n",
      "Lasso Test Data: (285, 22)\n"
     ]
    }
   ],
   "source": [
    "%store -r X_test_lasso\n",
    "print(f\"Baseline Test Data: {X_test.shape}\")\n",
    "print(f\"Lasso Test Data: {X_test_lasso.shape}\")"
   ]
  },
  {
   "cell_type": "markdown",
   "metadata": {},
   "source": [
    "#### Random Forest Feature Importance Feature Set <a class=\"anchor\" id=\"rffi\"></a>"
   ]
  },
  {
   "cell_type": "code",
   "execution_count": 15,
   "metadata": {},
   "outputs": [],
   "source": [
    "corr = spearmanr(X).correlation\n",
    "corr_linkage = hierarchy.ward(corr)"
   ]
  },
  {
   "cell_type": "code",
   "execution_count": 16,
   "metadata": {
    "scrolled": true
   },
   "outputs": [
    {
     "name": "stdout",
     "output_type": "stream",
     "text": [
      "Baseline Test Data: (285, 30)\n",
      "RFI Test Data: (285, 14)\n"
     ]
    }
   ],
   "source": [
    "cluster_ids = hierarchy.fcluster(corr_linkage, 1, criterion='distance')\n",
    "cluster_id_to_feature_ids = defaultdict(list)\n",
    "for idx, cluster_id in enumerate(cluster_ids):\n",
    "    cluster_id_to_feature_ids[cluster_id].append(idx)\n",
    "selected_features = [v[0] for v in cluster_id_to_feature_ids.values()]\n",
    "\n",
    "X_train_rfi = X_train[:, selected_features]\n",
    "X_test_rfi = X_test[:, selected_features]\n",
    "#%store -r X_train_rfi\n",
    "#%store -r X_test_rfi\n",
    "\n",
    "print(f\"Baseline Test Data: {X_test.shape}\")\n",
    "print(f\"RFI Test Data: {X_test_rfi.shape}\")"
   ]
  },
  {
   "cell_type": "markdown",
   "metadata": {},
   "source": [
    "#### Mean Feature Set"
   ]
  },
  {
   "cell_type": "code",
   "execution_count": 20,
   "metadata": {},
   "outputs": [
    {
     "data": {
      "text/plain": [
       "(285, 10)"
      ]
     },
     "execution_count": 20,
     "metadata": {},
     "output_type": "execute_result"
    }
   ],
   "source": [
    "%store -r X_train_mean\n",
    "%store -r X_test_mean\n",
    "X_test_mean.shape"
   ]
  },
  {
   "cell_type": "markdown",
   "metadata": {},
   "source": [
    "#### Less Correlated Feature Set"
   ]
  },
  {
   "cell_type": "code",
   "execution_count": 24,
   "metadata": {},
   "outputs": [
    {
     "data": {
      "text/plain": [
       "(285, 16)"
      ]
     },
     "execution_count": 24,
     "metadata": {},
     "output_type": "execute_result"
    }
   ],
   "source": [
    "%store -r X_train_clean\n",
    "%store -r X_test_clean\n",
    "X_test_clean.shape"
   ]
  },
  {
   "cell_type": "markdown",
   "metadata": {},
   "source": [
    "### Baseline Logistic Regression Model <a class=\"anchor\" id=\"base\"></a>"
   ]
  },
  {
   "cell_type": "markdown",
   "metadata": {},
   "source": [
    "##### Original Feature Set"
   ]
  },
  {
   "cell_type": "code",
   "execution_count": 25,
   "metadata": {
    "scrolled": true
   },
   "outputs": [
    {
     "name": "stdout",
     "output_type": "stream",
     "text": [
      "ROC AUC:99.73262032085562%\n"
     ]
    },
    {
     "data": {
      "text/plain": [
       "0.9973262032085561"
      ]
     },
     "execution_count": 25,
     "metadata": {},
     "output_type": "execute_result"
    }
   ],
   "source": [
    "clf = LogisticRegression(random_state=42)\n",
    "clf.fit(X_train, y_train)\n",
    "base_dict = {}\n",
    "\n",
    "# Accuray On Test Data\n",
    "probs = clf.predict_proba(X_test)\n",
    "preds = probs[:,1]\n",
    "fpr, tpr, threshold = metrics.roc_curve(y_test, preds)\n",
    "roc_auc = metrics.auc(fpr, tpr)\n",
    "print(f\"ROC AUC:{roc_auc*100}%\")\n",
    "base_dict.update({\"Original\":roc_auc*100})\n",
    "\n",
    "y_score =clf.predict_proba(X_test)[:, 1]\n",
    "orig_score = metrics.roc_auc_score(y_test, y_score)\n"
   ]
  },
  {
   "cell_type": "markdown",
   "metadata": {},
   "source": [
    "#### Select K Best Feature set"
   ]
  },
  {
   "cell_type": "code",
   "execution_count": 26,
   "metadata": {},
   "outputs": [
    {
     "name": "stdout",
     "output_type": "stream",
     "text": [
      "ROC AUC:99.1542071374004%\n"
     ]
    },
    {
     "data": {
      "text/plain": [
       "0.9915420713740041"
      ]
     },
     "execution_count": 26,
     "metadata": {},
     "output_type": "execute_result"
    }
   ],
   "source": [
    "clf = LogisticRegression(random_state=42)\n",
    "clf.fit(feature_set_skb, y_train)\n",
    "\n",
    "# Accuray On Test Data\n",
    "probs = clf.predict_proba(X_test_skb)\n",
    "preds = probs[:,1]\n",
    "fpr, tpr, threshold = metrics.roc_curve(y_test, preds)\n",
    "roc_auc = metrics.auc(fpr, tpr)\n",
    "print(f\"ROC AUC:{roc_auc*100}%\")\n",
    "#fs_dict.update({\"SKB_LogReg\":[f\"ROC AUC: {roc_auc*100}%\",f\"Accuracy:{clf.score(X_test_skb, y_test)}\"]})\n",
    "base_dict.update({\"Select K Best\":roc_auc*100})\n",
    "\n",
    "y_score =clf.predict_proba(X_test_skb)[:, 1]\n",
    "skb_score = metrics.roc_auc_score(y_test, y_score)\n"
   ]
  },
  {
   "cell_type": "markdown",
   "metadata": {},
   "source": [
    "#### RFECV Feature Set"
   ]
  },
  {
   "cell_type": "code",
   "execution_count": 27,
   "metadata": {
    "scrolled": true
   },
   "outputs": [
    {
     "name": "stdout",
     "output_type": "stream",
     "text": [
      "ROC AUC:99.77081741787623%\n"
     ]
    },
    {
     "data": {
      "text/plain": [
       "0.9977081741787623"
      ]
     },
     "execution_count": 27,
     "metadata": {},
     "output_type": "execute_result"
    }
   ],
   "source": [
    "clf = LogisticRegression(random_state=42)\n",
    "clf.fit(rfecv_clf_feature_set, y_train)\n",
    "\n",
    "# Accuray On Test Data\n",
    "probs = clf.predict_proba(X_test_rfecv)\n",
    "preds = probs[:,1]\n",
    "fpr, tpr, threshold = metrics.roc_curve(y_test, preds)\n",
    "roc_auc = metrics.auc(fpr, tpr)\n",
    "print(f\"ROC AUC:{roc_auc*100}%\")\n",
    "base_dict.update({\"RFECV\":roc_auc*100})\n",
    "\n",
    "y_score =clf.predict_proba(X_test_rfecv)[:, 1]\n",
    "rfecv_score = metrics.roc_auc_score(y_test, y_score)\n",
    "\n",
    "\n"
   ]
  },
  {
   "cell_type": "markdown",
   "metadata": {},
   "source": [
    "#### Lasso Feature Set"
   ]
  },
  {
   "cell_type": "code",
   "execution_count": 28,
   "metadata": {},
   "outputs": [
    {
     "name": "stdout",
     "output_type": "stream",
     "text": [
      "ROC AUC:99.72170686456401%\n"
     ]
    }
   ],
   "source": [
    "clf = LogisticRegression(random_state=42)\n",
    "clf.fit(sfm_feature_set, y_train)\n",
    "\n",
    "# Accuray On Test Data\n",
    "probs = clf.predict_proba(X_test_lasso)\n",
    "preds = probs[:,1]\n",
    "fpr, tpr, threshold = metrics.roc_curve(y_test, preds)\n",
    "roc_auc = metrics.auc(fpr, tpr)\n",
    "print(f\"ROC AUC:{roc_auc*100}%\")\n",
    "base_dict.update({\"Lasso CV\":roc_auc*100})\n",
    "\n",
    "y_score =clf.predict_proba(X_test_lasso)[:, 1]\n",
    "lasso_score = metrics.roc_auc_score(y_test, y_score)\n"
   ]
  },
  {
   "cell_type": "markdown",
   "metadata": {},
   "source": [
    "#### Random Forest Feature Importance Feature Set"
   ]
  },
  {
   "cell_type": "code",
   "execution_count": 29,
   "metadata": {
    "scrolled": true
   },
   "outputs": [
    {
     "name": "stdout",
     "output_type": "stream",
     "text": [
      "ROC AUC:99.74899050529304%\n",
      "0.9974899050529303\n"
     ]
    }
   ],
   "source": [
    "clf = LogisticRegression(random_state=42)\n",
    "clf.fit(X_train_rfi, y_train)\n",
    "\n",
    "# Accuray On Test Data\n",
    "probs = clf.predict_proba(X_test_rfi)\n",
    "preds = probs[:,1]\n",
    "fpr, tpr, threshold = metrics.roc_curve(y_test, preds)\n",
    "roc_auc = metrics.auc(fpr, tpr)\n",
    "print(f\"ROC AUC:{roc_auc*100}%\")\n",
    "#fs_dict.update({\"RF_Feat_Importance_LogReg\":[f\"ROC AUC: {roc_auc*100}%\",f\"Accuracy:{clf.score(X_test_rfi, y_test)}\"]})\n",
    "base_dict.update({\"RFFI\":roc_auc*100})\n",
    "\n",
    "y_score =clf.predict_proba(X_test_rfi)[:, 1]\n",
    "rfi_score = metrics.roc_auc_score(y_test, y_score)\n",
    "\n",
    "print(rfi_score)\n"
   ]
  },
  {
   "cell_type": "markdown",
   "metadata": {},
   "source": [
    "#### Mean Feature Set"
   ]
  },
  {
   "cell_type": "code",
   "execution_count": 30,
   "metadata": {},
   "outputs": [
    {
     "name": "stdout",
     "output_type": "stream",
     "text": [
      "ROC AUC:99.02870239004692%\n"
     ]
    },
    {
     "data": {
      "text/plain": [
       "0.9902870239004692"
      ]
     },
     "execution_count": 30,
     "metadata": {},
     "output_type": "execute_result"
    }
   ],
   "source": [
    "clf = LogisticRegression(random_state=42)\n",
    "clf.fit(X_train_mean, y_train)\n",
    "\n",
    "# Accuray On Test Data\n",
    "probs = clf.predict_proba(X_test_mean)\n",
    "preds = probs[:,1]\n",
    "fpr, tpr, threshold = metrics.roc_curve(y_test, preds)\n",
    "roc_auc = metrics.auc(fpr, tpr)\n",
    "print(f\"ROC AUC:{roc_auc*100}%\")\n",
    "base_dict.update({\"Mean Features\":roc_auc*100})\n",
    "\n",
    "y_score =clf.predict_proba(X_test_mean)[:, 1]\n",
    "mean_score = metrics.roc_auc_score(y_test, y_score)"
   ]
  },
  {
   "cell_type": "markdown",
   "metadata": {},
   "source": [
    "#### Less correlated Feature Set"
   ]
  },
  {
   "cell_type": "code",
   "execution_count": 31,
   "metadata": {},
   "outputs": [
    {
     "name": "stdout",
     "output_type": "stream",
     "text": [
      "ROC AUC:99.0014187493179%\n"
     ]
    },
    {
     "data": {
      "text/plain": [
       "0.990014187493179"
      ]
     },
     "execution_count": 31,
     "metadata": {},
     "output_type": "execute_result"
    }
   ],
   "source": [
    "clf = LogisticRegression(random_state=42)\n",
    "clf.fit(X_train_clean, y_train)\n",
    "\n",
    "# Accuray On Test Data\n",
    "probs = clf.predict_proba(X_test_clean)\n",
    "preds = probs[:,1]\n",
    "fpr, tpr, threshold = metrics.roc_curve(y_test, preds)\n",
    "roc_auc = metrics.auc(fpr, tpr)\n",
    "print(f\"ROC AUC:{roc_auc*100}%\")\n",
    "base_dict.update({\"Less Correlated\":roc_auc*100})\n",
    "\n",
    "y_score =clf.predict_proba(X_test_clean)[:, 1]\n",
    "clean_score = metrics.roc_auc_score(y_test, y_score)\n"
   ]
  },
  {
   "cell_type": "code",
   "execution_count": 32,
   "metadata": {
    "scrolled": false
   },
   "outputs": [
    {
     "data": {
      "text/html": [
       "<div>\n",
       "<style scoped>\n",
       "    .dataframe tbody tr th:only-of-type {\n",
       "        vertical-align: middle;\n",
       "    }\n",
       "\n",
       "    .dataframe tbody tr th {\n",
       "        vertical-align: top;\n",
       "    }\n",
       "\n",
       "    .dataframe thead th {\n",
       "        text-align: right;\n",
       "    }\n",
       "</style>\n",
       "<table border=\"1\" class=\"dataframe\">\n",
       "  <thead>\n",
       "    <tr style=\"text-align: right;\">\n",
       "      <th></th>\n",
       "      <th>0</th>\n",
       "    </tr>\n",
       "  </thead>\n",
       "  <tbody>\n",
       "    <tr>\n",
       "      <th>RFECV</th>\n",
       "      <td>99.770817</td>\n",
       "    </tr>\n",
       "    <tr>\n",
       "      <th>RFFI</th>\n",
       "      <td>99.748991</td>\n",
       "    </tr>\n",
       "    <tr>\n",
       "      <th>Original</th>\n",
       "      <td>99.732620</td>\n",
       "    </tr>\n",
       "    <tr>\n",
       "      <th>Lasso CV</th>\n",
       "      <td>99.721707</td>\n",
       "    </tr>\n",
       "    <tr>\n",
       "      <th>Select K Best</th>\n",
       "      <td>99.154207</td>\n",
       "    </tr>\n",
       "    <tr>\n",
       "      <th>Mean Features</th>\n",
       "      <td>99.028702</td>\n",
       "    </tr>\n",
       "    <tr>\n",
       "      <th>Less Correlated</th>\n",
       "      <td>99.001419</td>\n",
       "    </tr>\n",
       "  </tbody>\n",
       "</table>\n",
       "</div>"
      ],
      "text/plain": [
       "                         0\n",
       "RFECV            99.770817\n",
       "RFFI             99.748991\n",
       "Original         99.732620\n",
       "Lasso CV         99.721707\n",
       "Select K Best    99.154207\n",
       "Mean Features    99.028702\n",
       "Less Correlated  99.001419"
      ]
     },
     "execution_count": 32,
     "metadata": {},
     "output_type": "execute_result"
    }
   ],
   "source": [
    "baseline_data = pd.DataFrame.from_dict(base_dict, orient='index')\n",
    "baseline_data.sort_values(by=0, ascending=False)"
   ]
  },
  {
   "cell_type": "markdown",
   "metadata": {},
   "source": [
    "The Random Forest Feature Importance is the best data set. "
   ]
  },
  {
   "cell_type": "markdown",
   "metadata": {},
   "source": [
    "### Modeling <a class=\"anchor\" id=\"mod\"></a>"
   ]
  },
  {
   "cell_type": "markdown",
   "metadata": {},
   "source": [
    "#### Log Reg Grid Search with RFECV Feature Set <a class=\"anchor\" id=\"log\"></a>"
   ]
  },
  {
   "cell_type": "code",
   "execution_count": 33,
   "metadata": {},
   "outputs": [
    {
     "name": "stdout",
     "output_type": "stream",
     "text": [
      "0.9823529411764707\n",
      "{'C': 0.4, 'max_iter': 100, 'penalty': 'l2', 'solver': 'liblinear'}\n"
     ]
    }
   ],
   "source": [
    "parameters = {\n",
    "    'penalty': ['l1', 'l2', 'none'],\n",
    "    'solver':['newton-cg', 'lbfgs', 'liblinear', 'sag', 'saga'],\n",
    "    'max_iter': np.arange(100, 200, 10),\n",
    "    'C':np.arange(0, 1.5, 0.2)}\n",
    "grid_cv = GridSearchCV(estimator = LogisticRegression(random_state = 42), param_grid = parameters, cv = 5)\n",
    "grid_cv.fit(rfecv_clf_feature_set, y_train)\n",
    "print(grid_cv.best_score_)\n",
    "print(grid_cv.best_params_)"
   ]
  },
  {
   "cell_type": "code",
   "execution_count": 34,
   "metadata": {
    "scrolled": false
   },
   "outputs": [
    {
     "name": "stdout",
     "output_type": "stream",
     "text": [
      "              precision    recall  f1-score   support\n",
      "\n",
      "       False       0.99      0.98      0.98       187\n",
      "        True       0.96      0.98      0.97        98\n",
      "\n",
      "    accuracy                           0.98       285\n",
      "   macro avg       0.97      0.98      0.98       285\n",
      "weighted avg       0.98      0.98      0.98       285\n",
      "\n"
     ]
    },
    {
     "data": {
      "text/plain": [
       "0.9789473684210527"
      ]
     },
     "execution_count": 34,
     "metadata": {},
     "output_type": "execute_result"
    }
   ],
   "source": [
    "print(classification_report(y_test, grid_cv.best_estimator_.predict(X_test_rfecv)))\n",
    "grid_cv.best_estimator_.score(X_test_rfecv, y_test)"
   ]
  },
  {
   "cell_type": "code",
   "execution_count": 35,
   "metadata": {
    "scrolled": true
   },
   "outputs": [
    {
     "data": {
      "text/plain": [
       "LogisticRegression(C=0.4, random_state=42, solver='liblinear')"
      ]
     },
     "execution_count": 35,
     "metadata": {},
     "output_type": "execute_result"
    }
   ],
   "source": [
    "# Setting the model to the best combination of parameters\n",
    "mod = grid_cv.best_estimator_\n",
    "\n",
    "# Train the model using the training sets \n",
    "mod.fit(rfecv_clf_feature_set, y_train)"
   ]
  },
  {
   "cell_type": "code",
   "execution_count": 36,
   "metadata": {},
   "outputs": [
    {
     "data": {
      "text/plain": [
       "0.9978718760231365"
      ]
     },
     "execution_count": 36,
     "metadata": {},
     "output_type": "execute_result"
    }
   ],
   "source": [
    "y_score_log =grid_cv.best_estimator_.predict_proba(X_test_rfecv)[:,1]\n",
    "metrics.roc_auc_score(y_test, y_score_log)"
   ]
  },
  {
   "cell_type": "markdown",
   "metadata": {},
   "source": [
    "### Random Forest Model <a class=\"anchor\" id=\"rf\"></a>"
   ]
  },
  {
   "cell_type": "code",
   "execution_count": 37,
   "metadata": {},
   "outputs": [
    {
     "name": "stdout",
     "output_type": "stream",
     "text": [
      "RF Feature Importance Feature Set\n",
      "{99.77081741787624}\n"
     ]
    }
   ],
   "source": [
    "## RF Feature importanct \n",
    "rf = RandomForestClassifier(random_state=42)\n",
    "rf.fit(rfecv_clf_feature_set, y_train)\n",
    "\n",
    "probs = rf.predict_proba(X_test_rfecv)\n",
    "preds = probs[:,1]\n",
    "fpr, tpr, threshold = metrics.roc_curve(y_test, preds)\n",
    "roc_auc = metrics.auc(fpr, tpr)\n",
    "print('RF Feature Importance Feature Set')\n",
    "print({roc_auc*100})"
   ]
  },
  {
   "cell_type": "code",
   "execution_count": 38,
   "metadata": {},
   "outputs": [
    {
     "name": "stdout",
     "output_type": "stream",
     "text": [
      "0.9705882352941175\n",
      "{'criterion': 'entropy', 'max_depth': 5, 'max_features': 'log2', 'min_samples_leaf': 1, 'min_samples_split': 5, 'n_estimators': 15}\n"
     ]
    }
   ],
   "source": [
    "parameters_rf = {'n_estimators': [4, 6, 9, 10, 15], \n",
    "              'max_features': ['log2', 'sqrt','auto'], \n",
    "              'criterion': ['entropy', 'gini'],\n",
    "              'max_depth': [2, 3, 5, 10], \n",
    "              'min_samples_split': [2, 3, 5],\n",
    "              'min_samples_leaf': [1, 5, 8]\n",
    "             }\n",
    "grid_cv_rf = GridSearchCV(estimator = RandomForestClassifier(random_state = 42), param_grid = parameters_rf, cv = 5)\n",
    "grid_cv_rf.fit(rfecv_clf_feature_set, y_train)\n",
    "print(grid_cv_rf.best_score_)\n",
    "print(grid_cv_rf.best_params_)"
   ]
  },
  {
   "cell_type": "code",
   "execution_count": 39,
   "metadata": {
    "scrolled": true
   },
   "outputs": [
    {
     "name": "stdout",
     "output_type": "stream",
     "text": [
      "              precision    recall  f1-score   support\n",
      "\n",
      "       False       0.99      0.98      0.98       187\n",
      "        True       0.96      0.98      0.97        98\n",
      "\n",
      "    accuracy                           0.98       285\n",
      "   macro avg       0.97      0.98      0.98       285\n",
      "weighted avg       0.98      0.98      0.98       285\n",
      "\n"
     ]
    },
    {
     "data": {
      "text/plain": [
       "0.9543859649122807"
      ]
     },
     "execution_count": 39,
     "metadata": {},
     "output_type": "execute_result"
    }
   ],
   "source": [
    "print(classification_report(y_test, grid_cv.best_estimator_.predict(X_test_rfecv)))\n",
    "grid_cv_rf.best_estimator_.score(X_test_rfecv, y_test)"
   ]
  },
  {
   "cell_type": "code",
   "execution_count": 40,
   "metadata": {},
   "outputs": [
    {
     "data": {
      "text/plain": [
       "0.9945978391356542"
      ]
     },
     "execution_count": 40,
     "metadata": {},
     "output_type": "execute_result"
    }
   ],
   "source": [
    "y_score_rf =grid_cv_rf.best_estimator_.predict_proba(X_test_rfecv)[:,1]\n",
    "metrics.roc_auc_score(y_test, y_score_rf)"
   ]
  },
  {
   "cell_type": "markdown",
   "metadata": {},
   "source": [
    "### Gradient Boosting Model  <a class=\"anchor\" id=\"gbm\"></a>"
   ]
  },
  {
   "cell_type": "code",
   "execution_count": 41,
   "metadata": {},
   "outputs": [
    {
     "name": "stdout",
     "output_type": "stream",
     "text": [
      "RF Feature Importance Feature Set\n",
      "ROC AUC:99.31790898177452%\n"
     ]
    }
   ],
   "source": [
    "## RF Feature importanct \n",
    "gbm = GradientBoostingClassifier(random_state=42) \n",
    "gbm.fit(rfecv_clf_feature_set, y_train)\n",
    "\n",
    "probs = gbm.predict_proba(X_test_rfecv)\n",
    "preds = probs[:,1]\n",
    "fpr, tpr, threshold = metrics.roc_curve(y_test, preds)\n",
    "roc_auc = metrics.auc(fpr, tpr)\n",
    "print('RF Feature Importance Feature Set')\n",
    "print(f\"ROC AUC:{roc_auc*100}%\")"
   ]
  },
  {
   "cell_type": "code",
   "execution_count": 42,
   "metadata": {},
   "outputs": [
    {
     "name": "stdout",
     "output_type": "stream",
     "text": [
      "0.9764705882352942\n",
      "{'learning_rate': 0.5, 'max_depth': 2, 'n_estimators': 500}\n"
     ]
    }
   ],
   "source": [
    "n_estimators = np.arange(100,600,100)\n",
    "max_depth = [1,2,4,8]\n",
    "learning_rate = [.05,.1,.2,.5,1]\n",
    "\n",
    "param_dist = {'n_estimators': n_estimators, 'max_depth':max_depth, 'learning_rate':learning_rate}\n",
    "\n",
    "grid_cv_gbm = GridSearchCV(estimator =GradientBoostingClassifier(random_state=42) , param_grid = param_dist, cv = 5)\n",
    "grid_cv_gbm.fit(rfecv_clf_feature_set, y_train)\n",
    "print(grid_cv_gbm.best_score_)\n",
    "print(grid_cv_gbm.best_params_)"
   ]
  },
  {
   "cell_type": "code",
   "execution_count": 43,
   "metadata": {
    "scrolled": true
   },
   "outputs": [
    {
     "name": "stdout",
     "output_type": "stream",
     "text": [
      "              precision    recall  f1-score   support\n",
      "\n",
      "       False       0.99      0.98      0.98       187\n",
      "        True       0.96      0.98      0.97        98\n",
      "\n",
      "    accuracy                           0.98       285\n",
      "   macro avg       0.97      0.98      0.98       285\n",
      "weighted avg       0.98      0.98      0.98       285\n",
      "\n"
     ]
    },
    {
     "data": {
      "text/plain": [
       "0.9789473684210527"
      ]
     },
     "execution_count": 43,
     "metadata": {},
     "output_type": "execute_result"
    }
   ],
   "source": [
    "print(classification_report(y_test, grid_cv_gbm.best_estimator_.predict(X_test_rfecv)))\n",
    "grid_cv_gbm.best_estimator_.score(X_test_rfecv, y_test)\n"
   ]
  },
  {
   "cell_type": "code",
   "execution_count": 44,
   "metadata": {},
   "outputs": [],
   "source": [
    "y_score =grid_cv_gbm.best_estimator_.predict_proba(X_test_rfecv)[:,1]\n"
   ]
  },
  {
   "cell_type": "code",
   "execution_count": 45,
   "metadata": {},
   "outputs": [
    {
     "data": {
      "text/plain": [
       "0.9973262032085561"
      ]
     },
     "execution_count": 45,
     "metadata": {},
     "output_type": "execute_result"
    }
   ],
   "source": [
    "metrics.roc_auc_score(y_test, y_score)"
   ]
  },
  {
   "cell_type": "markdown",
   "metadata": {},
   "source": [
    "#### Testing selected data set "
   ]
  },
  {
   "cell_type": "code",
   "execution_count": 46,
   "metadata": {},
   "outputs": [],
   "source": [
    "model_params = {\n",
    "    'random_forest': {'model': RandomForestClassifier(random_state=42),\n",
    "                      'params' : {\n",
    "              'n_estimators': [4, 6, 9, 10, 15], \n",
    "              'max_features': ['log2', 'sqrt','auto'], \n",
    "              'criterion': ['entropy', 'gini'],\n",
    "              'max_depth': [2, 3, 5, 10], \n",
    "              'min_samples_split': [2, 3, 5],\n",
    "              'min_samples_leaf': [1, 5, 8]}},\n",
    "    'logistic_regression' : {'model': LogisticRegression(random_state=42),\n",
    "                            'params': {\n",
    "                                'penalty': ['l1', 'l2', 'none'],\n",
    "                                'solver':['newton-cg', 'lbfgs', 'liblinear', 'sag', 'saga'],\n",
    "                                'max_iter': np.arange(100, 200, 10),\n",
    "                                'C':np.arange(0, 1.5, 0.2)}},\n",
    "    'gradient_boosting' : {'model': GradientBoostingClassifier(random_state=42),\n",
    "                       'params': {\n",
    "                           'n_estimators': np.arange(100,600,100), \n",
    "                           'max_depth':[1,2,4,8], \n",
    "                           'learning_rate':[.05,.1,.2,.5,1]}}\n",
    "}\n"
   ]
  },
  {
   "cell_type": "code",
   "execution_count": 47,
   "metadata": {},
   "outputs": [],
   "source": [
    "scores = []\n",
    "\n",
    "for model_name, mp in model_params.items():\n",
    "    clf =  GridSearchCV(mp['model'], mp['params'], cv=5, return_train_score=False)\n",
    "    clf.fit(rfecv_clf_feature_set, y_train)\n",
    "    scores.append({\n",
    "        'model': model_name,\n",
    "        'best_score': clf.best_score_,\n",
    "        'best_params': clf.best_params_\n",
    "    })\n",
    "    \n",
    "df_model = pd.DataFrame(scores,columns=['model','best_score','best_params'])\n",
    "df_model.to_csv('models.csv')\n"
   ]
  },
  {
   "cell_type": "code",
   "execution_count": 48,
   "metadata": {},
   "outputs": [
    {
     "data": {
      "text/html": [
       "<div>\n",
       "<style scoped>\n",
       "    .dataframe tbody tr th:only-of-type {\n",
       "        vertical-align: middle;\n",
       "    }\n",
       "\n",
       "    .dataframe tbody tr th {\n",
       "        vertical-align: top;\n",
       "    }\n",
       "\n",
       "    .dataframe thead th {\n",
       "        text-align: right;\n",
       "    }\n",
       "</style>\n",
       "<table border=\"1\" class=\"dataframe\">\n",
       "  <thead>\n",
       "    <tr style=\"text-align: right;\">\n",
       "      <th></th>\n",
       "      <th>model</th>\n",
       "      <th>best_score</th>\n",
       "      <th>best_params</th>\n",
       "    </tr>\n",
       "  </thead>\n",
       "  <tbody>\n",
       "    <tr>\n",
       "      <th>0</th>\n",
       "      <td>random_forest</td>\n",
       "      <td>0.970588</td>\n",
       "      <td>{'criterion': 'entropy', 'max_depth': 5, 'max_...</td>\n",
       "    </tr>\n",
       "    <tr>\n",
       "      <th>1</th>\n",
       "      <td>logistic_regression</td>\n",
       "      <td>0.982353</td>\n",
       "      <td>{'C': 0.4, 'max_iter': 100, 'penalty': 'l2', '...</td>\n",
       "    </tr>\n",
       "    <tr>\n",
       "      <th>2</th>\n",
       "      <td>gradient_boosting</td>\n",
       "      <td>0.976471</td>\n",
       "      <td>{'learning_rate': 0.5, 'max_depth': 2, 'n_esti...</td>\n",
       "    </tr>\n",
       "  </tbody>\n",
       "</table>\n",
       "</div>"
      ],
      "text/plain": [
       "                 model  best_score  \\\n",
       "0        random_forest    0.970588   \n",
       "1  logistic_regression    0.982353   \n",
       "2    gradient_boosting    0.976471   \n",
       "\n",
       "                                         best_params  \n",
       "0  {'criterion': 'entropy', 'max_depth': 5, 'max_...  \n",
       "1  {'C': 0.4, 'max_iter': 100, 'penalty': 'l2', '...  \n",
       "2  {'learning_rate': 0.5, 'max_depth': 2, 'n_esti...  "
      ]
     },
     "execution_count": 48,
     "metadata": {},
     "output_type": "execute_result"
    }
   ],
   "source": [
    "df_model"
   ]
  },
  {
   "cell_type": "code",
   "execution_count": 49,
   "metadata": {
    "scrolled": false
   },
   "outputs": [
    {
     "name": "stdout",
     "output_type": "stream",
     "text": [
      "              precision    recall  f1-score   support\n",
      "\n",
      "       False       0.99      0.98      0.98       187\n",
      "        True       0.96      0.98      0.97        98\n",
      "\n",
      "    accuracy                           0.98       285\n",
      "   macro avg       0.97      0.98      0.98       285\n",
      "weighted avg       0.98      0.98      0.98       285\n",
      "\n"
     ]
    }
   ],
   "source": [
    "print(classification_report(y_test, clf.best_estimator_.predict(X_test_rfecv)))\n"
   ]
  },
  {
   "cell_type": "code",
   "execution_count": 50,
   "metadata": {},
   "outputs": [
    {
     "data": {
      "image/png": "[encoded data removed]",
      "text/plain": [
       "<Figure size 432x288 with 2 Axes>"
      ]
     },
     "metadata": {
      "needs_background": "light"
     },
     "output_type": "display_data"
    }
   ],
   "source": [
    "\n",
    "plot_confusion_matrix(clf,X_test_rfecv, y_test)\n",
    "plt.title(\"Confusion Matrix for Test Data\")\n",
    "plt.savefig('matrix_final.png')\n",
    "plt.show()"
   ]
  },
  {
   "cell_type": "markdown",
   "metadata": {},
   "source": [
    "## Fine Tuning  <a class=\"anchor\" id=\"fine\"></a>"
   ]
  },
  {
   "cell_type": "code",
   "execution_count": 51,
   "metadata": {
    "scrolled": false
   },
   "outputs": [
    {
     "data": {
      "text/html": [
       "<div>\n",
       "<style scoped>\n",
       "    .dataframe tbody tr th:only-of-type {\n",
       "        vertical-align: middle;\n",
       "    }\n",
       "\n",
       "    .dataframe tbody tr th {\n",
       "        vertical-align: top;\n",
       "    }\n",
       "\n",
       "    .dataframe thead th {\n",
       "        text-align: right;\n",
       "    }\n",
       "</style>\n",
       "<table border=\"1\" class=\"dataframe\">\n",
       "  <thead>\n",
       "    <tr style=\"text-align: right;\">\n",
       "      <th></th>\n",
       "      <th>model</th>\n",
       "      <th>best_score</th>\n",
       "      <th>best_params</th>\n",
       "    </tr>\n",
       "  </thead>\n",
       "  <tbody>\n",
       "    <tr>\n",
       "      <th>1</th>\n",
       "      <td>logistic_regression</td>\n",
       "      <td>0.982353</td>\n",
       "      <td>{'C': 0.4, 'max_iter': 100, 'penalty': 'l2', '...</td>\n",
       "    </tr>\n",
       "    <tr>\n",
       "      <th>2</th>\n",
       "      <td>gradient_boosting</td>\n",
       "      <td>0.976471</td>\n",
       "      <td>{'learning_rate': 0.5, 'max_depth': 2, 'n_esti...</td>\n",
       "    </tr>\n",
       "    <tr>\n",
       "      <th>0</th>\n",
       "      <td>random_forest</td>\n",
       "      <td>0.970588</td>\n",
       "      <td>{'criterion': 'entropy', 'max_depth': 5, 'max_...</td>\n",
       "    </tr>\n",
       "  </tbody>\n",
       "</table>\n",
       "</div>"
      ],
      "text/plain": [
       "                 model  best_score  \\\n",
       "1  logistic_regression    0.982353   \n",
       "2    gradient_boosting    0.976471   \n",
       "0        random_forest    0.970588   \n",
       "\n",
       "                                         best_params  \n",
       "1  {'C': 0.4, 'max_iter': 100, 'penalty': 'l2', '...  \n",
       "2  {'learning_rate': 0.5, 'max_depth': 2, 'n_esti...  \n",
       "0  {'criterion': 'entropy', 'max_depth': 5, 'max_...  "
      ]
     },
     "execution_count": 51,
     "metadata": {},
     "output_type": "execute_result"
    }
   ],
   "source": [
    "df_model.sort_values(by='best_score', ascending=False)"
   ]
  },
  {
   "cell_type": "code",
   "execution_count": 52,
   "metadata": {},
   "outputs": [
    {
     "data": {
      "text/plain": [
       "LogisticRegression(C=0.4, random_state=42, solver='liblinear')"
      ]
     },
     "execution_count": 52,
     "metadata": {},
     "output_type": "execute_result"
    }
   ],
   "source": [
    "clf = LogisticRegression(random_state=42, C=0.4, max_iter=100, penalty='l2', solver='liblinear')\n",
    "clf.fit(rfecv_clf_feature_set, y_train)"
   ]
  },
  {
   "cell_type": "code",
   "execution_count": 53,
   "metadata": {},
   "outputs": [],
   "source": [
    "probs = clf.predict_proba(X_test_rfecv)\n",
    "preds = probs[:,1]\n",
    "\n",
    "\n",
    "precision, recall, thresholds = precision_recall_curve(y_test, preds)\n",
    "fpr, tpr, threshold = metrics.roc_curve(y_test, preds)\n",
    "\n",
    "\n",
    "y_score =clf.predict_proba(X_test_rfecv)[:, 1]\n",
    "roc_auc = metrics.roc_auc_score(y_test, y_score)\n",
    "\n",
    "pr_auc = metrics.auc(recall, precision)\n"
   ]
  },
  {
   "cell_type": "code",
   "execution_count": 54,
   "metadata": {},
   "outputs": [
    {
     "data": {
      "text/plain": [
       "0.9978718760231365"
      ]
     },
     "execution_count": 54,
     "metadata": {},
     "output_type": "execute_result"
    }
   ],
   "source": [
    "roc_auc"
   ]
  },
  {
   "cell_type": "code",
   "execution_count": 55,
   "metadata": {
    "scrolled": true
   },
   "outputs": [
    {
     "data": {
      "text/plain": [
       "0.9964003205450987"
      ]
     },
     "execution_count": 55,
     "metadata": {},
     "output_type": "execute_result"
    }
   ],
   "source": [
    "pr_auc"
   ]
  },
  {
   "cell_type": "code",
   "execution_count": 56,
   "metadata": {
    "scrolled": true
   },
   "outputs": [
    {
     "data": {
      "image/png": "[encoded data removed]",
      "text/plain": [
       "<Figure size 864x432 with 2 Axes>"
      ]
     },
     "metadata": {
      "needs_background": "light"
     },
     "output_type": "display_data"
    }
   ],
   "source": [
    "h_line = len(y_test[y_test==1]) / len(y_test) # no skill line in precision/recall curve\n",
    "\n",
    "_ = plt.subplots(figsize=(12,6))\n",
    "f1 = plt.subplot(1,2,1)\n",
    "_ = plt.plot(fpr, tpr)\n",
    "_ = plt.plot([0,1],[0,1], 'k--')\n",
    "_ = plt.xlabel('False Positive Rate')\n",
    "_ = plt.ylabel('True Positive Rate')\n",
    "_ = plt.title('ROC Curve')\n",
    "_ = plt.legend([f'auc score: {round(roc_auc, 4)}'], loc='lower right')\n",
    "\n",
    "f2 = plt.subplot(1,2,2)\n",
    "_ = plt.plot(recall, precision)\n",
    "_ = plt.plot([0, 1], [h_line, h_line], linestyle='--', color='k')\n",
    "_ = plt.xlabel('Recall')\n",
    "_ = plt.ylabel('Precision')\n",
    "_ = plt.title('Precision-Recall Curve')\n",
    "_ = plt.legend([f'auc score: {round(pr_auc, 4)}'], loc='lower right')\n",
    "plt.savefig('ROC_PR_RFECV.png') \n",
    "plt.tight_layout()"
   ]
  },
  {
   "cell_type": "markdown",
   "metadata": {},
   "source": [
    "### Decision Threshold <a class=\"anchor\" id=\"fine\"></a>"
   ]
  },
  {
   "cell_type": "code",
   "execution_count": 57,
   "metadata": {},
   "outputs": [],
   "source": [
    "pred_df = pd.DataFrame({'precision':precision[:-1], 'recall':recall[:-1], 'threshold':thresholds})"
   ]
  },
  {
   "cell_type": "code",
   "execution_count": 58,
   "metadata": {
    "scrolled": false
   },
   "outputs": [
    {
     "data": {
      "text/html": [
       "<div>\n",
       "<style scoped>\n",
       "    .dataframe tbody tr th:only-of-type {\n",
       "        vertical-align: middle;\n",
       "    }\n",
       "\n",
       "    .dataframe tbody tr th {\n",
       "        vertical-align: top;\n",
       "    }\n",
       "\n",
       "    .dataframe thead th {\n",
       "        text-align: right;\n",
       "    }\n",
       "</style>\n",
       "<table border=\"1\" class=\"dataframe\">\n",
       "  <thead>\n",
       "    <tr style=\"text-align: right;\">\n",
       "      <th></th>\n",
       "      <th>precision</th>\n",
       "      <th>recall</th>\n",
       "      <th>threshold</th>\n",
       "    </tr>\n",
       "  </thead>\n",
       "  <tbody>\n",
       "    <tr>\n",
       "      <th>0</th>\n",
       "      <td>0.830508</td>\n",
       "      <td>1.000000</td>\n",
       "      <td>0.196100</td>\n",
       "    </tr>\n",
       "    <tr>\n",
       "      <th>1</th>\n",
       "      <td>0.829060</td>\n",
       "      <td>0.989796</td>\n",
       "      <td>0.205668</td>\n",
       "    </tr>\n",
       "    <tr>\n",
       "      <th>2</th>\n",
       "      <td>0.836207</td>\n",
       "      <td>0.989796</td>\n",
       "      <td>0.214414</td>\n",
       "    </tr>\n",
       "    <tr>\n",
       "      <th>3</th>\n",
       "      <td>0.843478</td>\n",
       "      <td>0.989796</td>\n",
       "      <td>0.218683</td>\n",
       "    </tr>\n",
       "    <tr>\n",
       "      <th>4</th>\n",
       "      <td>0.850877</td>\n",
       "      <td>0.989796</td>\n",
       "      <td>0.238010</td>\n",
       "    </tr>\n",
       "  </tbody>\n",
       "</table>\n",
       "</div>"
      ],
      "text/plain": [
       "   precision    recall  threshold\n",
       "0   0.830508  1.000000   0.196100\n",
       "1   0.829060  0.989796   0.205668\n",
       "2   0.836207  0.989796   0.214414\n",
       "3   0.843478  0.989796   0.218683\n",
       "4   0.850877  0.989796   0.238010"
      ]
     },
     "execution_count": 58,
     "metadata": {},
     "output_type": "execute_result"
    }
   ],
   "source": [
    "pred_df.head()"
   ]
  },
  {
   "cell_type": "code",
   "execution_count": 66,
   "metadata": {
    "scrolled": true
   },
   "outputs": [
    {
     "data": {
      "text/html": [
       "<div>\n",
       "<style scoped>\n",
       "    .dataframe tbody tr th:only-of-type {\n",
       "        vertical-align: middle;\n",
       "    }\n",
       "\n",
       "    .dataframe tbody tr th {\n",
       "        vertical-align: top;\n",
       "    }\n",
       "\n",
       "    .dataframe thead th {\n",
       "        text-align: right;\n",
       "    }\n",
       "</style>\n",
       "<table border=\"1\" class=\"dataframe\">\n",
       "  <thead>\n",
       "    <tr style=\"text-align: right;\">\n",
       "      <th></th>\n",
       "      <th>precision</th>\n",
       "      <th>recall</th>\n",
       "      <th>threshold</th>\n",
       "      <th>fb_2</th>\n",
       "      <th>fb_3</th>\n",
       "    </tr>\n",
       "  </thead>\n",
       "  <tbody>\n",
       "    <tr>\n",
       "      <th>26</th>\n",
       "      <td>1.0</td>\n",
       "      <td>0.938776</td>\n",
       "      <td>0.780813</td>\n",
       "      <td>0.950413</td>\n",
       "      <td>0.944559</td>\n",
       "    </tr>\n",
       "  </tbody>\n",
       "</table>\n",
       "</div>"
      ],
      "text/plain": [
       "    precision    recall  threshold      fb_2      fb_3\n",
       "26        1.0  0.938776   0.780813  0.950413  0.944559"
      ]
     },
     "execution_count": 66,
     "metadata": {},
     "output_type": "execute_result"
    }
   ],
   "source": [
    "pred_df[pred_df.precision == 1].sort_values(by='recall', ascending=False).head(1)"
   ]
  },
  {
   "cell_type": "code",
   "execution_count": 67,
   "metadata": {},
   "outputs": [],
   "source": [
    "#pred_df.to_csv(\"pre_df_RFECV_1.csv\")"
   ]
  },
  {
   "cell_type": "code",
   "execution_count": 114,
   "metadata": {},
   "outputs": [],
   "source": [
    "thresholds = sorted(list(set(preds)))\n",
    "                  \n",
    "precision_list = []\n",
    "\n",
    "recall_list = []"
   ]
  },
  {
   "cell_type": "code",
   "execution_count": 115,
   "metadata": {
    "scrolled": true
   },
   "outputs": [],
   "source": [
    "for thresh in thresholds:\n",
    "    y_pred_temp = preds > thresh\n",
    "    precision_list.append(precision_score(y_test, y_pred_temp))\n",
    "    recall_list.append(recall_score(y_test, y_pred_temp))"
   ]
  },
  {
   "cell_type": "code",
   "execution_count": 119,
   "metadata": {},
   "outputs": [],
   "source": [
    "precision_list = sorted(precision_list)"
   ]
  },
  {
   "cell_type": "code",
   "execution_count": 121,
   "metadata": {
    "scrolled": false
   },
   "outputs": [
    {
     "data": {
      "image/png": "[encoded data removed]",
      "text/plain": [
       "<Figure size 504x504 with 1 Axes>"
      ]
     },
     "metadata": {
      "needs_background": "light"
     },
     "output_type": "display_data"
    }
   ],
   "source": [
    "_ = plt.figure(figsize=(7, 7))\n",
    "_ = plt.title('Precision and Recall Scores As A Function Of The Decision Threshold')\n",
    "_ = plt.plot(thresholds, precision_list, '--', label='Precision')\n",
    "_ = plt.plot(thresholds, recall_list, '-', label='Recall')\n",
    "_ = plt.axvline(x=0.780813, c='k', ls=':')\n",
    "_ = plt.annotate('Max Precision', xy=(0.760,0.1), rotation=90)\n",
    "_ = plt.axvline(x=0.1961, c='k', ls=':')\n",
    "_ = plt.annotate('Max Recall', xy=(0.175,0.1), rotation=90)\n",
    "_ = plt.ylabel('Score')\n",
    "_ = plt.xlabel('Decision Threshold')\n",
    "_ = plt.savefig('Decision_RFECV_new2.png') \n",
    "_ = plt.legend(loc='best')"
   ]
  },
  {
   "cell_type": "markdown",
   "metadata": {},
   "source": [
    "### Classification Report and Confusion Matrix <a class=\"anchor\" id=\"class\"></a>"
   ]
  },
  {
   "cell_type": "code",
   "execution_count": 69,
   "metadata": {},
   "outputs": [],
   "source": [
    "# Adjust the decision thresholds  \n",
    "max_recall = np.where(preds >= 0.1961, 1, 0)\n",
    "max_pred = np.where(preds >= 0.780813, 1, 0)"
   ]
  },
  {
   "cell_type": "code",
   "execution_count": 71,
   "metadata": {
    "scrolled": false
   },
   "outputs": [
    {
     "name": "stdout",
     "output_type": "stream",
     "text": [
      "Classification Report - Max Recall\n",
      "              precision    recall  f1-score   support\n",
      "\n",
      "       False       1.00      0.89      0.94       187\n",
      "        True       0.83      1.00      0.91        98\n",
      "\n",
      "    accuracy                           0.93       285\n",
      "   macro avg       0.92      0.95      0.93       285\n",
      "weighted avg       0.94      0.93      0.93       285\n",
      "\n"
     ]
    }
   ],
   "source": [
    "print('Classification Report - Max Recall')\n",
    "print(classification_report(y_test, max_recall))"
   ]
  },
  {
   "cell_type": "code",
   "execution_count": 72,
   "metadata": {
    "scrolled": true
   },
   "outputs": [
    {
     "data": {
      "text/plain": [
       "array([[167,  20],\n",
       "       [  0,  98]])"
      ]
     },
     "execution_count": 72,
     "metadata": {},
     "output_type": "execute_result"
    }
   ],
   "source": [
    "confusion_matrix(y_test, max_recall)"
   ]
  },
  {
   "cell_type": "code",
   "execution_count": 73,
   "metadata": {},
   "outputs": [
    {
     "data": {
      "image/png": "[encoded data removed]",
      "text/plain": [
       "<Figure size 432x288 with 2 Axes>"
      ]
     },
     "metadata": {
      "needs_background": "light"
     },
     "output_type": "display_data"
    }
   ],
   "source": [
    "cmatrix_maxr = confusion_matrix(y_test, max_recall)\n",
    "\n",
    "group_names = ['True Neg','False Pos','False Neg','True Pos']\n",
    "group_counts = ['{0:0.0f}'.format(value) for value in cmatrix_maxr.flatten()]\n",
    "group_percentages = ['{0:.2%}'.format(value) for value in cmatrix_maxr.flatten()/np.sum(cmatrix_maxr)]\n",
    "labels = [f'{v1}\\n{v2}\\n{v3}' for v1, v2, v3 in zip(group_names,group_counts,group_percentages)]\n",
    "labels = np.asarray(labels).reshape(2,2)\n",
    "_ = sns.heatmap(cmatrix_maxr, annot=labels,cmap='viridis', fmt='')\n",
    "_ = plt.savefig('CMatrix_RFECV.png') \n",
    "_ = plt.title('Max Recall')"
   ]
  },
  {
   "cell_type": "code",
   "execution_count": 74,
   "metadata": {
    "scrolled": true
   },
   "outputs": [
    {
     "name": "stdout",
     "output_type": "stream",
     "text": [
      "Classification Report - Max Precision\n",
      "              precision    recall  f1-score   support\n",
      "\n",
      "       False       0.97      1.00      0.98       187\n",
      "        True       1.00      0.94      0.97        98\n",
      "\n",
      "    accuracy                           0.98       285\n",
      "   macro avg       0.98      0.97      0.98       285\n",
      "weighted avg       0.98      0.98      0.98       285\n",
      "\n"
     ]
    }
   ],
   "source": [
    "print('Classification Report - Max Precision')\n",
    "print(classification_report(y_test, max_pred))"
   ]
  },
  {
   "cell_type": "code",
   "execution_count": null,
   "metadata": {},
   "outputs": [],
   "source": []
  }
 ],
 "metadata": {
  "kernelspec": {
   "display_name": "Python 3",
   "language": "python",
   "name": "python3"
  },
  "language_info": {
   "codemirror_mode": {
    "name": "ipython",
    "version": 3
   },
   "file_extension": ".py",
   "mimetype": "text/x-python",
   "name": "python",
   "nbconvert_exporter": "python",
   "pygments_lexer": "ipython3",
   "version": "3.8.5"
  }
 },
 "nbformat": 4,
 "nbformat_minor": 4
}
